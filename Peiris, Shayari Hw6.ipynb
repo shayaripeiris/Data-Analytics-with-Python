{
 "cells": [
  {
   "cell_type": "markdown",
   "metadata": {},
   "source": [
    "# Homework 6 - Fish.csv\n",
    "\n",
    "### Name: Shayari Peiris\n",
    "### Collaborator: Vishwesh Srinivasan, Veer Kumar\n",
    "\n",
    "\n",
    "DATA 201A \n",
    "\n",
    "Fall 2022\n",
    "\n",
    "Tufts University"
   ]
  },
  {
   "cell_type": "code",
   "execution_count": 43,
   "metadata": {},
   "outputs": [],
   "source": [
    "# Importing libraries\n",
    "\n",
    "import pandas as pd\n",
    "import numpy as np\n",
    "import matplotlib.pyplot as plt\n",
    "import seaborn as sns\n",
    "\n",
    "from sklearn.linear_model import LinearRegression\n",
    "from sklearn import datasets, linear_model\n",
    "from sklearn.model_selection import train_test_split\n",
    "from sklearn import metrics\n",
    "from sklearn.metrics import mean_squared_error\n",
    "from sklearn.metrics import r2_score\n",
    "from sklearn.preprocessing import LabelEncoder\n",
    "le = LabelEncoder()\n",
    "from sklearn.model_selection import KFold, train_test_split "
   ]
  },
  {
   "cell_type": "markdown",
   "metadata": {},
   "source": [
    "# Question 1\n",
    "Read in 'Fish.csv' as a dataframe. (a) How many different species of fish does the dataset contain? Use the LebelEncoder to transform the species column. (b) Separate the dataframe into an $X$ and $y$ variable, for this data our response variable / predicted variable is going to be the column 'Weight'. (c) Split the $X$ and $y$ data into train and test sets (with test_size = 20), and run linear regression on the train set. (d) Report the MSE and r^2 metrics for the test set."
   ]
  },
  {
   "cell_type": "code",
   "execution_count": 44,
   "metadata": {},
   "outputs": [
    {
     "data": {
      "text/html": [
       "<div>\n",
       "<style scoped>\n",
       "    .dataframe tbody tr th:only-of-type {\n",
       "        vertical-align: middle;\n",
       "    }\n",
       "\n",
       "    .dataframe tbody tr th {\n",
       "        vertical-align: top;\n",
       "    }\n",
       "\n",
       "    .dataframe thead th {\n",
       "        text-align: right;\n",
       "    }\n",
       "</style>\n",
       "<table border=\"1\" class=\"dataframe\">\n",
       "  <thead>\n",
       "    <tr style=\"text-align: right;\">\n",
       "      <th></th>\n",
       "      <th>Species</th>\n",
       "      <th>Weight</th>\n",
       "      <th>Length1</th>\n",
       "      <th>Length2</th>\n",
       "      <th>Length3</th>\n",
       "      <th>Height</th>\n",
       "      <th>Width</th>\n",
       "    </tr>\n",
       "  </thead>\n",
       "  <tbody>\n",
       "    <tr>\n",
       "      <th>0</th>\n",
       "      <td>Bream</td>\n",
       "      <td>242.0</td>\n",
       "      <td>23.2</td>\n",
       "      <td>25.4</td>\n",
       "      <td>30.0</td>\n",
       "      <td>11.5200</td>\n",
       "      <td>4.0200</td>\n",
       "    </tr>\n",
       "    <tr>\n",
       "      <th>1</th>\n",
       "      <td>Bream</td>\n",
       "      <td>290.0</td>\n",
       "      <td>24.0</td>\n",
       "      <td>26.3</td>\n",
       "      <td>31.2</td>\n",
       "      <td>12.4800</td>\n",
       "      <td>4.3056</td>\n",
       "    </tr>\n",
       "    <tr>\n",
       "      <th>2</th>\n",
       "      <td>Bream</td>\n",
       "      <td>340.0</td>\n",
       "      <td>23.9</td>\n",
       "      <td>26.5</td>\n",
       "      <td>31.1</td>\n",
       "      <td>12.3778</td>\n",
       "      <td>4.6961</td>\n",
       "    </tr>\n",
       "    <tr>\n",
       "      <th>3</th>\n",
       "      <td>Bream</td>\n",
       "      <td>363.0</td>\n",
       "      <td>26.3</td>\n",
       "      <td>29.0</td>\n",
       "      <td>33.5</td>\n",
       "      <td>12.7300</td>\n",
       "      <td>4.4555</td>\n",
       "    </tr>\n",
       "    <tr>\n",
       "      <th>4</th>\n",
       "      <td>Bream</td>\n",
       "      <td>430.0</td>\n",
       "      <td>26.5</td>\n",
       "      <td>29.0</td>\n",
       "      <td>34.0</td>\n",
       "      <td>12.4440</td>\n",
       "      <td>5.1340</td>\n",
       "    </tr>\n",
       "    <tr>\n",
       "      <th>...</th>\n",
       "      <td>...</td>\n",
       "      <td>...</td>\n",
       "      <td>...</td>\n",
       "      <td>...</td>\n",
       "      <td>...</td>\n",
       "      <td>...</td>\n",
       "      <td>...</td>\n",
       "    </tr>\n",
       "    <tr>\n",
       "      <th>154</th>\n",
       "      <td>Smelt</td>\n",
       "      <td>12.2</td>\n",
       "      <td>11.5</td>\n",
       "      <td>12.2</td>\n",
       "      <td>13.4</td>\n",
       "      <td>2.0904</td>\n",
       "      <td>1.3936</td>\n",
       "    </tr>\n",
       "    <tr>\n",
       "      <th>155</th>\n",
       "      <td>Smelt</td>\n",
       "      <td>13.4</td>\n",
       "      <td>11.7</td>\n",
       "      <td>12.4</td>\n",
       "      <td>13.5</td>\n",
       "      <td>2.4300</td>\n",
       "      <td>1.2690</td>\n",
       "    </tr>\n",
       "    <tr>\n",
       "      <th>156</th>\n",
       "      <td>Smelt</td>\n",
       "      <td>12.2</td>\n",
       "      <td>12.1</td>\n",
       "      <td>13.0</td>\n",
       "      <td>13.8</td>\n",
       "      <td>2.2770</td>\n",
       "      <td>1.2558</td>\n",
       "    </tr>\n",
       "    <tr>\n",
       "      <th>157</th>\n",
       "      <td>Smelt</td>\n",
       "      <td>19.7</td>\n",
       "      <td>13.2</td>\n",
       "      <td>14.3</td>\n",
       "      <td>15.2</td>\n",
       "      <td>2.8728</td>\n",
       "      <td>2.0672</td>\n",
       "    </tr>\n",
       "    <tr>\n",
       "      <th>158</th>\n",
       "      <td>Smelt</td>\n",
       "      <td>19.9</td>\n",
       "      <td>13.8</td>\n",
       "      <td>15.0</td>\n",
       "      <td>16.2</td>\n",
       "      <td>2.9322</td>\n",
       "      <td>1.8792</td>\n",
       "    </tr>\n",
       "  </tbody>\n",
       "</table>\n",
       "<p>159 rows × 7 columns</p>\n",
       "</div>"
      ],
      "text/plain": [
       "    Species  Weight  Length1  Length2  Length3   Height   Width\n",
       "0     Bream   242.0     23.2     25.4     30.0  11.5200  4.0200\n",
       "1     Bream   290.0     24.0     26.3     31.2  12.4800  4.3056\n",
       "2     Bream   340.0     23.9     26.5     31.1  12.3778  4.6961\n",
       "3     Bream   363.0     26.3     29.0     33.5  12.7300  4.4555\n",
       "4     Bream   430.0     26.5     29.0     34.0  12.4440  5.1340\n",
       "..      ...     ...      ...      ...      ...      ...     ...\n",
       "154   Smelt    12.2     11.5     12.2     13.4   2.0904  1.3936\n",
       "155   Smelt    13.4     11.7     12.4     13.5   2.4300  1.2690\n",
       "156   Smelt    12.2     12.1     13.0     13.8   2.2770  1.2558\n",
       "157   Smelt    19.7     13.2     14.3     15.2   2.8728  2.0672\n",
       "158   Smelt    19.9     13.8     15.0     16.2   2.9322  1.8792\n",
       "\n",
       "[159 rows x 7 columns]"
      ]
     },
     "execution_count": 44,
     "metadata": {},
     "output_type": "execute_result"
    }
   ],
   "source": [
    "#Question 1\n",
    "#Loading dataset\n",
    "\n",
    "df = pd.read_csv('Fish.csv')\n",
    "df"
   ]
  },
  {
   "cell_type": "code",
   "execution_count": 45,
   "metadata": {},
   "outputs": [
    {
     "data": {
      "text/plain": [
       "Perch        56\n",
       "Bream        35\n",
       "Roach        20\n",
       "Pike         17\n",
       "Smelt        14\n",
       "Parkki       11\n",
       "Whitefish     6\n",
       "Name: Species, dtype: int64"
      ]
     },
     "execution_count": 45,
     "metadata": {},
     "output_type": "execute_result"
    }
   ],
   "source": [
    "#Question 1 cont\n",
    "#(a) How many different species of fish does the dataset contain?\n",
    "\n",
    "df['Species'].value_counts()"
   ]
  },
  {
   "cell_type": "code",
   "execution_count": 46,
   "metadata": {},
   "outputs": [
    {
     "data": {
      "text/plain": [
       "['Bream', 'Parkki', 'Perch', 'Pike', 'Roach', 'Smelt', 'Whitefish']"
      ]
     },
     "execution_count": 46,
     "metadata": {},
     "output_type": "execute_result"
    }
   ],
   "source": [
    "#Question 1 cont\n",
    "#Use the LebelEncoder to transform the species column.\n",
    "\n",
    "#how can we make predictions for categorical data? we need to transform categorical data into numerical data\n",
    "le = LabelEncoder()\n",
    "\n",
    "#Step 1: fit a lebel class (unique values)\n",
    "le.fit(df['Species']) #extracting unique values from list 'countries'\n",
    "list(le.classes_) #showing unique values from list 'countries'"
   ]
  },
  {
   "cell_type": "code",
   "execution_count": 47,
   "metadata": {},
   "outputs": [
    {
     "data": {
      "text/html": [
       "<div>\n",
       "<style scoped>\n",
       "    .dataframe tbody tr th:only-of-type {\n",
       "        vertical-align: middle;\n",
       "    }\n",
       "\n",
       "    .dataframe tbody tr th {\n",
       "        vertical-align: top;\n",
       "    }\n",
       "\n",
       "    .dataframe thead th {\n",
       "        text-align: right;\n",
       "    }\n",
       "</style>\n",
       "<table border=\"1\" class=\"dataframe\">\n",
       "  <thead>\n",
       "    <tr style=\"text-align: right;\">\n",
       "      <th></th>\n",
       "      <th>Species</th>\n",
       "      <th>Weight</th>\n",
       "      <th>Length1</th>\n",
       "      <th>Length2</th>\n",
       "      <th>Length3</th>\n",
       "      <th>Height</th>\n",
       "      <th>Width</th>\n",
       "    </tr>\n",
       "  </thead>\n",
       "  <tbody>\n",
       "    <tr>\n",
       "      <th>0</th>\n",
       "      <td>0</td>\n",
       "      <td>242.0</td>\n",
       "      <td>23.2</td>\n",
       "      <td>25.4</td>\n",
       "      <td>30.0</td>\n",
       "      <td>11.5200</td>\n",
       "      <td>4.0200</td>\n",
       "    </tr>\n",
       "    <tr>\n",
       "      <th>1</th>\n",
       "      <td>0</td>\n",
       "      <td>290.0</td>\n",
       "      <td>24.0</td>\n",
       "      <td>26.3</td>\n",
       "      <td>31.2</td>\n",
       "      <td>12.4800</td>\n",
       "      <td>4.3056</td>\n",
       "    </tr>\n",
       "    <tr>\n",
       "      <th>2</th>\n",
       "      <td>0</td>\n",
       "      <td>340.0</td>\n",
       "      <td>23.9</td>\n",
       "      <td>26.5</td>\n",
       "      <td>31.1</td>\n",
       "      <td>12.3778</td>\n",
       "      <td>4.6961</td>\n",
       "    </tr>\n",
       "    <tr>\n",
       "      <th>3</th>\n",
       "      <td>0</td>\n",
       "      <td>363.0</td>\n",
       "      <td>26.3</td>\n",
       "      <td>29.0</td>\n",
       "      <td>33.5</td>\n",
       "      <td>12.7300</td>\n",
       "      <td>4.4555</td>\n",
       "    </tr>\n",
       "    <tr>\n",
       "      <th>4</th>\n",
       "      <td>0</td>\n",
       "      <td>430.0</td>\n",
       "      <td>26.5</td>\n",
       "      <td>29.0</td>\n",
       "      <td>34.0</td>\n",
       "      <td>12.4440</td>\n",
       "      <td>5.1340</td>\n",
       "    </tr>\n",
       "    <tr>\n",
       "      <th>...</th>\n",
       "      <td>...</td>\n",
       "      <td>...</td>\n",
       "      <td>...</td>\n",
       "      <td>...</td>\n",
       "      <td>...</td>\n",
       "      <td>...</td>\n",
       "      <td>...</td>\n",
       "    </tr>\n",
       "    <tr>\n",
       "      <th>154</th>\n",
       "      <td>5</td>\n",
       "      <td>12.2</td>\n",
       "      <td>11.5</td>\n",
       "      <td>12.2</td>\n",
       "      <td>13.4</td>\n",
       "      <td>2.0904</td>\n",
       "      <td>1.3936</td>\n",
       "    </tr>\n",
       "    <tr>\n",
       "      <th>155</th>\n",
       "      <td>5</td>\n",
       "      <td>13.4</td>\n",
       "      <td>11.7</td>\n",
       "      <td>12.4</td>\n",
       "      <td>13.5</td>\n",
       "      <td>2.4300</td>\n",
       "      <td>1.2690</td>\n",
       "    </tr>\n",
       "    <tr>\n",
       "      <th>156</th>\n",
       "      <td>5</td>\n",
       "      <td>12.2</td>\n",
       "      <td>12.1</td>\n",
       "      <td>13.0</td>\n",
       "      <td>13.8</td>\n",
       "      <td>2.2770</td>\n",
       "      <td>1.2558</td>\n",
       "    </tr>\n",
       "    <tr>\n",
       "      <th>157</th>\n",
       "      <td>5</td>\n",
       "      <td>19.7</td>\n",
       "      <td>13.2</td>\n",
       "      <td>14.3</td>\n",
       "      <td>15.2</td>\n",
       "      <td>2.8728</td>\n",
       "      <td>2.0672</td>\n",
       "    </tr>\n",
       "    <tr>\n",
       "      <th>158</th>\n",
       "      <td>5</td>\n",
       "      <td>19.9</td>\n",
       "      <td>13.8</td>\n",
       "      <td>15.0</td>\n",
       "      <td>16.2</td>\n",
       "      <td>2.9322</td>\n",
       "      <td>1.8792</td>\n",
       "    </tr>\n",
       "  </tbody>\n",
       "</table>\n",
       "<p>159 rows × 7 columns</p>\n",
       "</div>"
      ],
      "text/plain": [
       "     Species  Weight  Length1  Length2  Length3   Height   Width\n",
       "0          0   242.0     23.2     25.4     30.0  11.5200  4.0200\n",
       "1          0   290.0     24.0     26.3     31.2  12.4800  4.3056\n",
       "2          0   340.0     23.9     26.5     31.1  12.3778  4.6961\n",
       "3          0   363.0     26.3     29.0     33.5  12.7300  4.4555\n",
       "4          0   430.0     26.5     29.0     34.0  12.4440  5.1340\n",
       "..       ...     ...      ...      ...      ...      ...     ...\n",
       "154        5    12.2     11.5     12.2     13.4   2.0904  1.3936\n",
       "155        5    13.4     11.7     12.4     13.5   2.4300  1.2690\n",
       "156        5    12.2     12.1     13.0     13.8   2.2770  1.2558\n",
       "157        5    19.7     13.2     14.3     15.2   2.8728  2.0672\n",
       "158        5    19.9     13.8     15.0     16.2   2.9322  1.8792\n",
       "\n",
       "[159 rows x 7 columns]"
      ]
     },
     "execution_count": 47,
     "metadata": {},
     "output_type": "execute_result"
    }
   ],
   "source": [
    "#Question 1 cont\n",
    "#Use the LebelEncoder to transform the species column.\n",
    "\n",
    "df['Species'] = le.transform(df['Species'])\n",
    "df"
   ]
  },
  {
   "cell_type": "code",
   "execution_count": 48,
   "metadata": {},
   "outputs": [],
   "source": [
    "#Question 1 cont\n",
    "#(b) Separate the dataframe into an x and y variable, \n",
    "#for this data our response variable / predicted variable is going to be the column 'Weight'.\n",
    "\n",
    "X = df[['Species','Length1', 'Length2', 'Length3', 'Height', 'Width']]\n",
    "Y = df['Weight']"
   ]
  },
  {
   "cell_type": "code",
   "execution_count": 49,
   "metadata": {},
   "outputs": [
    {
     "data": {
      "text/html": [
       "<div>\n",
       "<style scoped>\n",
       "    .dataframe tbody tr th:only-of-type {\n",
       "        vertical-align: middle;\n",
       "    }\n",
       "\n",
       "    .dataframe tbody tr th {\n",
       "        vertical-align: top;\n",
       "    }\n",
       "\n",
       "    .dataframe thead th {\n",
       "        text-align: right;\n",
       "    }\n",
       "</style>\n",
       "<table border=\"1\" class=\"dataframe\">\n",
       "  <thead>\n",
       "    <tr style=\"text-align: right;\">\n",
       "      <th></th>\n",
       "      <th>Weight</th>\n",
       "      <th>test_predictions</th>\n",
       "    </tr>\n",
       "  </thead>\n",
       "  <tbody>\n",
       "    <tr>\n",
       "      <th>78</th>\n",
       "      <td>78.0</td>\n",
       "      <td>76.852435</td>\n",
       "    </tr>\n",
       "    <tr>\n",
       "      <th>155</th>\n",
       "      <td>13.4</td>\n",
       "      <td>-122.873152</td>\n",
       "    </tr>\n",
       "    <tr>\n",
       "      <th>128</th>\n",
       "      <td>200.0</td>\n",
       "      <td>383.344496</td>\n",
       "    </tr>\n",
       "    <tr>\n",
       "      <th>55</th>\n",
       "      <td>270.0</td>\n",
       "      <td>420.944718</td>\n",
       "    </tr>\n",
       "    <tr>\n",
       "      <th>94</th>\n",
       "      <td>150.0</td>\n",
       "      <td>149.914824</td>\n",
       "    </tr>\n",
       "    <tr>\n",
       "      <th>29</th>\n",
       "      <td>1000.0</td>\n",
       "      <td>828.547139</td>\n",
       "    </tr>\n",
       "    <tr>\n",
       "      <th>147</th>\n",
       "      <td>7.0</td>\n",
       "      <td>-192.515578</td>\n",
       "    </tr>\n",
       "    <tr>\n",
       "      <th>51</th>\n",
       "      <td>180.0</td>\n",
       "      <td>289.991264</td>\n",
       "    </tr>\n",
       "    <tr>\n",
       "      <th>98</th>\n",
       "      <td>188.0</td>\n",
       "      <td>248.953049</td>\n",
       "    </tr>\n",
       "    <tr>\n",
       "      <th>141</th>\n",
       "      <td>1250.0</td>\n",
       "      <td>1135.746471</td>\n",
       "    </tr>\n",
       "  </tbody>\n",
       "</table>\n",
       "</div>"
      ],
      "text/plain": [
       "     Weight  test_predictions\n",
       "78     78.0         76.852435\n",
       "155    13.4       -122.873152\n",
       "128   200.0        383.344496\n",
       "55    270.0        420.944718\n",
       "94    150.0        149.914824\n",
       "29   1000.0        828.547139\n",
       "147     7.0       -192.515578\n",
       "51    180.0        289.991264\n",
       "98    188.0        248.953049\n",
       "141  1250.0       1135.746471"
      ]
     },
     "execution_count": 49,
     "metadata": {},
     "output_type": "execute_result"
    }
   ],
   "source": [
    "#Question 1 cont\n",
    "#(c) Split the  𝑋  and  𝑦  data into train and test sets (with test_size = .20)\n",
    "# run linear regression on the train set.\n",
    "\n",
    "X_train, X_test, Y_train, Y_test = train_test_split(X, Y, test_size=.20, random_state=42)\n",
    "lm = LinearRegression() #importing Linear Regression and passing to lm object\n",
    "lm.fit(X_train,Y_train)\n",
    "test_predictions = lm.predict(X_test) #Predictions on Test Data\n",
    "prediction = pd.DataFrame(Y_test) #Creating a new dataframe prediction using Y_test data\n",
    "prediction['test_predictions'] = test_predictions #Adding new column test_predictions\n",
    "\n",
    "#Showing the top 10 records to compare original target value with our predictions\n",
    "#shows actual median value vs predicted median value\n",
    "prediction.head(10)"
   ]
  },
  {
   "cell_type": "code",
   "execution_count": 50,
   "metadata": {},
   "outputs": [
    {
     "name": "stdout",
     "output_type": "stream",
     "text": [
      "MSE: 13727.82\n",
      "R2: 0.9\n"
     ]
    }
   ],
   "source": [
    "#Question 1 cont\n",
    "#(d) Report the MSE and r^2 metrics for the test set.\n",
    "\n",
    "print('MSE:', round(metrics.mean_squared_error(Y_test, test_predictions), 2))\n",
    "print('R2:', round(r2_score(Y_test, test_predictions), 2))\n",
    "\n",
    "#model can fit 90% of training data = R2 = 90%"
   ]
  },
  {
   "cell_type": "markdown",
   "metadata": {},
   "source": [
    "# Question 2\n",
    "Write a function that will compute the MSE of a set of true variables and its corresponding predicted variables. THis function should take in two variables, a y_test set and a y_pred set, and it should return a single number. Test to see if your function gives the same output as the built in MSE function."
   ]
  },
  {
   "cell_type": "code",
   "execution_count": 51,
   "metadata": {},
   "outputs": [
    {
     "data": {
      "text/plain": [
       "13727.82"
      ]
     },
     "execution_count": 51,
     "metadata": {},
     "output_type": "execute_result"
    }
   ],
   "source": [
    "#Question 2\n",
    "def my_MSE(y_test,y_pred):\n",
    "        mse_value = round(sum((y_test - y_pred)**2)/len(y_test),2)\n",
    "        return mse_value\n",
    "my_MSE(Y_test,test_predictions)"
   ]
  },
  {
   "cell_type": "code",
   "execution_count": 52,
   "metadata": {},
   "outputs": [
    {
     "name": "stdout",
     "output_type": "stream",
     "text": [
      "My function gives the same output as the built in MSE function\n"
     ]
    }
   ],
   "source": [
    "print('My function gives the same output as the built in MSE function')"
   ]
  },
  {
   "cell_type": "markdown",
   "metadata": {},
   "source": [
    "# Question 3\n",
    "Create a heatmap of the correlations between correlations of the $X$ data, comment on the values (are they relatively high, relatively low? Is that expected?)"
   ]
  },
  {
   "cell_type": "code",
   "execution_count": 53,
   "metadata": {},
   "outputs": [
    {
     "data": {
      "text/html": [
       "<div>\n",
       "<style scoped>\n",
       "    .dataframe tbody tr th:only-of-type {\n",
       "        vertical-align: middle;\n",
       "    }\n",
       "\n",
       "    .dataframe tbody tr th {\n",
       "        vertical-align: top;\n",
       "    }\n",
       "\n",
       "    .dataframe thead th {\n",
       "        text-align: right;\n",
       "    }\n",
       "</style>\n",
       "<table border=\"1\" class=\"dataframe\">\n",
       "  <thead>\n",
       "    <tr style=\"text-align: right;\">\n",
       "      <th></th>\n",
       "      <th>Length1</th>\n",
       "      <th>Length2</th>\n",
       "      <th>Length3</th>\n",
       "      <th>Height</th>\n",
       "      <th>Width</th>\n",
       "      <th>Species</th>\n",
       "    </tr>\n",
       "  </thead>\n",
       "  <tbody>\n",
       "    <tr>\n",
       "      <th>Length1</th>\n",
       "      <td>1.000000</td>\n",
       "      <td>0.999517</td>\n",
       "      <td>0.992031</td>\n",
       "      <td>0.625378</td>\n",
       "      <td>0.867050</td>\n",
       "      <td>-0.266696</td>\n",
       "    </tr>\n",
       "    <tr>\n",
       "      <th>Length2</th>\n",
       "      <td>0.999517</td>\n",
       "      <td>1.000000</td>\n",
       "      <td>0.994103</td>\n",
       "      <td>0.640441</td>\n",
       "      <td>0.873547</td>\n",
       "      <td>-0.283601</td>\n",
       "    </tr>\n",
       "    <tr>\n",
       "      <th>Length3</th>\n",
       "      <td>0.992031</td>\n",
       "      <td>0.994103</td>\n",
       "      <td>1.000000</td>\n",
       "      <td>0.703409</td>\n",
       "      <td>0.878520</td>\n",
       "      <td>-0.335519</td>\n",
       "    </tr>\n",
       "    <tr>\n",
       "      <th>Height</th>\n",
       "      <td>0.625378</td>\n",
       "      <td>0.640441</td>\n",
       "      <td>0.703409</td>\n",
       "      <td>1.000000</td>\n",
       "      <td>0.792881</td>\n",
       "      <td>-0.698193</td>\n",
       "    </tr>\n",
       "    <tr>\n",
       "      <th>Width</th>\n",
       "      <td>0.867050</td>\n",
       "      <td>0.873547</td>\n",
       "      <td>0.878520</td>\n",
       "      <td>0.792881</td>\n",
       "      <td>1.000000</td>\n",
       "      <td>-0.397578</td>\n",
       "    </tr>\n",
       "    <tr>\n",
       "      <th>Species</th>\n",
       "      <td>-0.266696</td>\n",
       "      <td>-0.283601</td>\n",
       "      <td>-0.335519</td>\n",
       "      <td>-0.698193</td>\n",
       "      <td>-0.397578</td>\n",
       "      <td>1.000000</td>\n",
       "    </tr>\n",
       "  </tbody>\n",
       "</table>\n",
       "</div>"
      ],
      "text/plain": [
       "          Length1   Length2   Length3    Height     Width   Species\n",
       "Length1  1.000000  0.999517  0.992031  0.625378  0.867050 -0.266696\n",
       "Length2  0.999517  1.000000  0.994103  0.640441  0.873547 -0.283601\n",
       "Length3  0.992031  0.994103  1.000000  0.703409  0.878520 -0.335519\n",
       "Height   0.625378  0.640441  0.703409  1.000000  0.792881 -0.698193\n",
       "Width    0.867050  0.873547  0.878520  0.792881  1.000000 -0.397578\n",
       "Species -0.266696 -0.283601 -0.335519 -0.698193 -0.397578  1.000000"
      ]
     },
     "execution_count": 53,
     "metadata": {},
     "output_type": "execute_result"
    }
   ],
   "source": [
    "#Question 3\n",
    "#computing correlations between X data and storing correlations in df called \"X_data_corr\"\n",
    "\n",
    "X_data_corr = df[['Length1', 'Length2', 'Length3', 'Height', 'Width','Species']].corr()\n",
    "X_data_corr"
   ]
  },
  {
   "cell_type": "code",
   "execution_count": 69,
   "metadata": {},
   "outputs": [
    {
     "data": {
      "image/png": "[encoded data removed]",
      "text/plain": [
       "<Figure size 864x576 with 2 Axes>"
      ]
     },
     "metadata": {
      "needs_background": "light"
     },
     "output_type": "display_data"
    }
   ],
   "source": [
    "#Question 3 cont\n",
    "#heatmap of the correlations between X data dataframe\n",
    "\n",
    "plt.figure(figsize = (12,8))\n",
    "corrplot = sns.heatmap((X_data_corr), annot=True)\n",
    "corrplot.set_xticklabels(corrplot.get_xticklabels(), rotation = 45, horizontalalignment = 'right')\n",
    "plt.title('Correlations Between X Variables in Fish Dataset')\n",
    "plt.show()"
   ]
  },
  {
   "cell_type": "markdown",
   "metadata": {},
   "source": [
    "Question 3 cont: comment on the values (are they relatively high, relatively low? Is that expected?)\n",
    "\n",
    "The correlations between many of the x variables are **relatively high**. This is because height, length, and width are usually related to each other. However, correlations between species and other variables are low. "
   ]
  },
  {
   "cell_type": "markdown",
   "metadata": {},
   "source": [
    "# Question 4\n",
    "We may not need every column in $X$ to get a good prediction, we are going to try do some 'feature selection'. (a) For each column in $X$, run a linear regression model on it (and only that column, and do not forget to split the data into a train and test set first) with the $y$ data, and keep track of the MSE. What column had the smallest MSE? (b) Now that you have a column that predicts the response variable the best on its own, lets find a second column that minimizes the MSE. So, repeat part (a) except for each left over column combine it with the best column so you have a pair of columns, then run a linear regression using that, again keeping track of the MSE in each case. What second column minimized the MSE? And is that MSE smaller than the one column case? (c) Time to generalize! In a new cell, write a function that takes in a test set $X$ and a reponse variable set $y$, and it will output what combination of features that minimize the MSE (according to our makeshift algorithm). The function should output a list with the column numbers, and also the MSE that was minimum. (d) This is not guaranteed to find the optimal combination of variables however, explain why. What is the benefit to finding an optimal combination in this way however?"
   ]
  },
  {
   "cell_type": "code",
   "execution_count": 55,
   "metadata": {},
   "outputs": [],
   "source": [
    "#4a \n",
    "#For each column in  𝑋 , run a linear regression model on it \n",
    "#(and only that column, and do not forget to split the data into a train and test set first) with the  𝑦  data, \n",
    "#and keep track of the MSE. \n",
    "\n",
    "\n",
    "X_new = df[['Length1', 'Length2', 'Length3', 'Height', 'Width','Species']]\n",
    "Y_new = df['Weight']"
   ]
  },
  {
   "cell_type": "code",
   "execution_count": 56,
   "metadata": {},
   "outputs": [
    {
     "name": "stdout",
     "output_type": "stream",
     "text": [
      "Length1\n",
      "MSE: 26796.684740821394\n",
      "Length2\n",
      "MSE: 25604.524458494772\n",
      "Length3\n",
      "MSE: 21835.271889248193\n",
      "Height\n",
      "MSE: 45896.947811413644\n",
      "Width\n",
      "MSE: 24143.054379169185\n",
      "Species\n",
      "MSE: 121470.29300110077\n"
     ]
    }
   ],
   "source": [
    "#4a cont\n",
    "def OLSfunction(X):\n",
    "    X_train, X_test, Y_train, Y_test = train_test_split(X, Y, test_size=.20, random_state=42)\n",
    "    lm = LinearRegression() \n",
    "    lm.fit(X_train,Y_train)\n",
    "    test_predictions = lm.predict(X_test) \n",
    "    print('MSE:', metrics.mean_squared_error(Y_test, test_predictions))\n",
    "    \n",
    "for column in X_new:\n",
    "    print(column)\n",
    "    OLSfunction(X_new[[column]])"
   ]
  },
  {
   "cell_type": "code",
   "execution_count": 57,
   "metadata": {},
   "outputs": [
    {
     "name": "stdout",
     "output_type": "stream",
     "text": [
      "Length 3 has the smallest MSE\n"
     ]
    }
   ],
   "source": [
    "#4a cont\n",
    "#What column had the smallest MSE? \n",
    "\n",
    "print('Length 3 has the smallest MSE')"
   ]
  },
  {
   "cell_type": "code",
   "execution_count": 58,
   "metadata": {},
   "outputs": [
    {
     "name": "stdout",
     "output_type": "stream",
     "text": [
      "Length3 and Length1\n",
      "MSE: 22499.997076686916\n"
     ]
    }
   ],
   "source": [
    "#4b: Now that you have a column that predicts the response variable the best on its own, \n",
    "#lets find a second column that minimizes the MSE.\n",
    "\n",
    "predictors1 = df[['Length3', 'Length1']]\n",
    "print('Length3 and Length1')\n",
    "OLSfunction(predictors1)"
   ]
  },
  {
   "cell_type": "code",
   "execution_count": 59,
   "metadata": {},
   "outputs": [
    {
     "name": "stdout",
     "output_type": "stream",
     "text": [
      "Length3 and Length2\n",
      "MSE: 22756.848728304238\n"
     ]
    }
   ],
   "source": [
    "#4b cont\n",
    "predictors2 = df[['Length3', 'Length2']]\n",
    "print('Length3 and Length2')\n",
    "OLSfunction(predictors2)"
   ]
  },
  {
   "cell_type": "code",
   "execution_count": 60,
   "metadata": {},
   "outputs": [
    {
     "name": "stdout",
     "output_type": "stream",
     "text": [
      "Length3 and Height\n",
      "MSE: 18736.78034312703\n"
     ]
    }
   ],
   "source": [
    "#4b cont\n",
    "predictors3 = df[['Length3', 'Height']]\n",
    "print('Length3 and Height')\n",
    "OLSfunction(predictors3)"
   ]
  },
  {
   "cell_type": "code",
   "execution_count": 61,
   "metadata": {},
   "outputs": [
    {
     "name": "stdout",
     "output_type": "stream",
     "text": [
      "Length3 and Width\n",
      "MSE: 18400.73067165252\n"
     ]
    }
   ],
   "source": [
    "#4b cont\n",
    "predictors4 = df[['Length3', 'Width']]\n",
    "print('Length3 and Width')\n",
    "OLSfunction(predictors4)"
   ]
  },
  {
   "cell_type": "code",
   "execution_count": 62,
   "metadata": {},
   "outputs": [
    {
     "name": "stdout",
     "output_type": "stream",
     "text": [
      "Length3 and Species\n",
      "MSE: 21865.57546083863\n"
     ]
    }
   ],
   "source": [
    "#4b cont\n",
    "predictors5 = df[['Length3', 'Species']]\n",
    "print('Length3 and Species')\n",
    "OLSfunction(predictors5)"
   ]
  },
  {
   "cell_type": "code",
   "execution_count": 63,
   "metadata": {},
   "outputs": [
    {
     "name": "stdout",
     "output_type": "stream",
     "text": [
      "Width minimized MSE. The MSE of Width and Length 3 is smaller than the MSE of just Length 3\n"
     ]
    }
   ],
   "source": [
    "#4b cont\n",
    "#What second column minimized the MSE? And is that MSE smaller than the one column case? \n",
    "\n",
    "print('Width minimized MSE. The MSE of Width and Length 3 is smaller than the MSE of just Length 3')"
   ]
  },
  {
   "cell_type": "code",
   "execution_count": 64,
   "metadata": {},
   "outputs": [
    {
     "name": "stdout",
     "output_type": "stream",
     "text": [
      "The optimal set of column numbers and the corresponding MSE value\n",
      "Column Numbers: [3, 5, 0, 4, 1]\n",
      "MSE: 13641.73\n"
     ]
    }
   ],
   "source": [
    "# 4c\n",
    "\n",
    "X = df[['Species','Length1', 'Length2', 'Length3', 'Height', 'Width']]\n",
    "Y = df['Weight']\n",
    "\n",
    "def forward_selection(X,Y):\n",
    "    \n",
    "    global master_index\n",
    "    global master_mse\n",
    "    \n",
    "    # boundary condition - when master_index becomes equal/bigger than the numner of columns in the training dataset (X)\n",
    "    # we stop \n",
    "    if len(master_index) >= len(X.columns):\n",
    "        return\n",
    "    \n",
    "    # this list has the values of column index added to the master_index in each iteration of the function call\n",
    "    index = []\n",
    "    mse = []\n",
    "    \n",
    "    # adding each column to the master_index and calculating the corresponding MSE\n",
    "    for i in range(0,len(X.columns)):\n",
    "        loop_i = []\n",
    "        if i not in master_index:\n",
    "            loop_i = master_index + [i]\n",
    "        else:\n",
    "            continue\n",
    "        if len(loop_i) == 1:\n",
    "            X_train, X_test, Y_train, Y_test = train_test_split(X.iloc[:,loop_i].values.reshape(-1,1), Y, \n",
    "                                                                test_size=0.2, random_state=42) \n",
    "        else:\n",
    "            X_train, X_test, Y_train, Y_test = train_test_split(X.iloc[:,loop_i], Y, \n",
    "                                                                test_size=0.2, random_state=42) \n",
    "        lm = LinearRegression()\n",
    "        lm.fit(X_train,Y_train) \n",
    "        test_predictions = lm.predict(X_test)\n",
    "        index.append(i)\n",
    "        mse.append(round(metrics.mean_squared_error(Y_test, test_predictions),2))\n",
    "    \n",
    "    # The MSE values obtained above are used to sort the 'index' list and the first element is added to the 'master_index'\n",
    "    # since it will have the minimum MSE when added to the master_index list\n",
    "    so = np.argsort(mse)\n",
    "    index = np.array(index)[so]\n",
    "    \n",
    "    # for the first iteration of the function call\n",
    "    if not master_index:\n",
    "        master_mse = mse[so[0]]\n",
    "        master_index.append(index[0])\n",
    "        forward_selection(X,Y)\n",
    "        \n",
    "    # for the subsequent function calls, when the current iteration's MSE is less than the master_mse\n",
    "    elif mse[so[0]] < master_mse:\n",
    "        master_mse = mse[so[0]]\n",
    "        master_index.append(index[0])\n",
    "        forward_selection(X,Y)\n",
    "        \n",
    "    # when the above condition is not met, it means that we have achieved the minimum possible MSE and we stop\n",
    "    else:\n",
    "        return\n",
    "\n",
    "# this variable will have the column indexes at every point for which minimum MSE can be achieved\n",
    "# starting with an empty list\n",
    "master_index = []\n",
    "# this variable will have the MSE value for the optimal column indexes at every point\n",
    "master_mse = 0\n",
    "forward_selection(X,Y)\n",
    "print('The optimal set of column numbers and the corresponding MSE value')\n",
    "print('Column Numbers:', master_index)\n",
    "print('MSE:', master_mse)"
   ]
  },
  {
   "cell_type": "code",
   "execution_count": 65,
   "metadata": {},
   "outputs": [
    {
     "name": "stdout",
     "output_type": "stream",
     "text": [
      "The function stops when the MSE increases, and the function outputs the combination of predictors that minimizes the MSE best. However, the MSE changes when you change random state, so there are other combinations of predictors that have the lowest MSE\n"
     ]
    }
   ],
   "source": [
    "#4d This is not guaranteed to find the optimal combination of variables however, explain why. \n",
    "#What is the benefit to finding an optimal combination in this way however?\n",
    "\n",
    "print('The function stops when the MSE increases, and the function outputs the combination of predictors that minimizes the MSE best. However, the MSE changes when you change random state, so there are other combinations of predictors that have the lowest MSE')\n",
    "\n"
   ]
  },
  {
   "cell_type": "markdown",
   "metadata": {},
   "source": [
    "# Question 5\n",
    "There is still a problem with our optimal combination finder, we were using the same train and test set for each round of linear regressions. Even if we changed the train and test set for each round, this could still give us some problems. So, we are going to use Cross Validation to help with that. (a) We will try it out first on the step finding just the best column predictor on its own. So, for each column, perform a linear regression, on each fold, finding the MSE for each, and averaging the MSE across all folds (use a fold of 5, so you will have five MSEs for each column, then averaging them to get an average MSE). Now, which column is the best single predictor? (b) In a new cell recreate your forward selection function but with cross validations, you should include a new input in the function as well for the number of folds to be used."
   ]
  },
  {
   "cell_type": "code",
   "execution_count": 66,
   "metadata": {},
   "outputs": [
    {
     "name": "stdout",
     "output_type": "stream",
     "text": [
      "  Predictor  Average MSE Value\n",
      "0   Species      118074.001467\n",
      "1   Length1       19278.925633\n",
      "2   Length2       18733.966639\n",
      "3   Length3       18399.182867\n",
      "4    Height       65452.002255\n",
      "5     Width       29457.755812\n"
     ]
    }
   ],
   "source": [
    "#Question 5a\n",
    "#finding the MSE for each predictor, and averaging the MSE across 5 folds\n",
    "\n",
    "#X has the list of predictors\n",
    "X = df[['Species','Length1', 'Length2', 'Length3', 'Height', 'Width']]\n",
    "Y = df['Weight']\n",
    "predictors={'Predictor':['Species','Length1', 'Length2', 'Length3', 'Height', 'Width']}\n",
    "#'pred_mse' is a new dataframe with column 'Predictor'\n",
    "pred_mse = pd.DataFrame(predictors, columns = ['Predictor'])\n",
    "\n",
    "mse_values = []\n",
    "#creating a for loop to loop through each predictor and calculate mean MSE value for each while using cross val\n",
    "for i in range (0,6):\n",
    "    x_train, x_test, y_train, y_test = train_test_split(X[[predictors['Predictor'][i]]], Y, test_size=0.2, random_state = 42)\n",
    "    kf = KFold(n_splits=5)\n",
    "    regr = linear_model.LinearRegression()\n",
    "    MSE=[]\n",
    "    for k, (train, test) in enumerate(kf.split(x_train)):\n",
    "        regr.fit(x_train.iloc[train], y_train.iloc[train])\n",
    "        pred = regr.predict(x_train.iloc[test, :])\n",
    "        mse = mean_squared_error(y_train.iloc[test], pred)\n",
    "        MSE.append(mse)\n",
    "    mse_values.append(np.mean(MSE))\n",
    "\n",
    "# appending the MSE values for each predictor to a new column in 'pred_mse' dataframe called 'mse_values'\n",
    "pred_mse['Average MSE Value'] = mse_values\n",
    "print(pred_mse)"
   ]
  },
  {
   "cell_type": "code",
   "execution_count": 67,
   "metadata": {},
   "outputs": [
    {
     "name": "stdout",
     "output_type": "stream",
     "text": [
      "Length 3 is the single best predictor because it has the lowest average MSE\n"
     ]
    }
   ],
   "source": [
    "#Question 5a\n",
    "#which column is the best single predictor\n",
    "\n",
    "print('Length 3 is the single best predictor because it has the lowest average MSE')"
   ]
  },
  {
   "cell_type": "code",
   "execution_count": 68,
   "metadata": {},
   "outputs": [
    {
     "name": "stdout",
     "output_type": "stream",
     "text": [
      "The optimal set of column numbers and the corresponding MSE value\n",
      "Column Numbers: [3, 5, 0]\n",
      "MSE: 16408.91\n"
     ]
    }
   ],
   "source": [
    "# 5b\n",
    "\n",
    "X = df[['Species','Length1', 'Length2', 'Length3', 'Height', 'Width']]\n",
    "Y = df['Weight']\n",
    "def forward_selection(X,Y,k):\n",
    "    \n",
    "    global master_index\n",
    "    global master_mse\n",
    "    \n",
    "    # boundary condition - when master_index becomes equal/bigger than the numner of columns in the training dataset (X)\n",
    "    # we stop \n",
    "    if len(master_index) >= len(X.columns):\n",
    "        return\n",
    "    \n",
    "    # this list has the values of column index added to the master_index in each iteration of the function call\n",
    "    index = []\n",
    "    mse = []\n",
    "    \n",
    "    # adding each column to the master_index and calculating the corresponding mean MSE using the cross validation technique\n",
    "    for i in range(0,len(X.columns)):\n",
    "        loop_i = []\n",
    "        if i not in master_index:\n",
    "            loop_i = master_index + [i]\n",
    "        else:\n",
    "            continue\n",
    "        if len(loop_i) == 1:\n",
    "            X_train, X_test, Y_train, Y_test = train_test_split(X.iloc[:,loop_i].values.reshape(-1,1), Y, \n",
    "                                                                test_size=0.2, random_state=42) \n",
    "        else:\n",
    "            X_train, X_test, Y_train, Y_test = train_test_split(X.iloc[:,loop_i], Y, \n",
    "                                                                test_size=0.2, random_state=42) \n",
    "        kf = KFold(n_splits=k)\n",
    "        regr = LinearRegression()\n",
    "        index.append(i)\n",
    "        MSE = []\n",
    "        for s, (train, test) in enumerate(kf.split(X_train)):\n",
    "            if len(loop_i) == 1:\n",
    "                regr.fit(X_train[train], Y_train.iloc[train])\n",
    "                pred = regr.predict(X_train[test, :])\n",
    "                mse_cv = mean_squared_error(Y_train.iloc[test], pred)\n",
    "                MSE.append(mse_cv)\n",
    "            else:\n",
    "                regr.fit(X_train.iloc[train], Y_train.iloc[train])\n",
    "                pred = regr.predict(X_train.iloc[test, :])\n",
    "                mse_cv = mean_squared_error(Y_train.iloc[test], pred)\n",
    "                MSE.append(mse_cv)\n",
    "        mse.append(np.around(np.mean(MSE),2))\n",
    "    \n",
    "    # The MSE values obtained above are used to sort the 'index' list and the first element is added to the 'master_index'\n",
    "    # since it will have the minimum MSE when added to the master_index list\n",
    "    so = np.argsort(mse)\n",
    "    index = np.array(index)[so]\n",
    "    \n",
    "    # for the first iteration of the function call\n",
    "    if not master_index:\n",
    "        master_mse = mse[so[0]]\n",
    "        master_index.append(index[0])\n",
    "        forward_selection(X,Y,k)\n",
    "        \n",
    "    # for the subsequent function calls, when the current iteration's MSE is less than the master_mse    \n",
    "    elif mse[so[0]] < master_mse:\n",
    "        master_mse = mse[so[0]]\n",
    "        master_index.append(index[0])\n",
    "        forward_selection(X,Y,k)\n",
    "        \n",
    "    # when the above condition is not met, it means that we have achieved the minimum possible MSE and we stop\n",
    "    else:\n",
    "        return\n",
    "\n",
    "# this variable will have the column indexes at every point for which minimum MSE can be achieved\n",
    "# starting with an empty list\n",
    "master_index = []\n",
    "# this variable will have the MSE value for the optimal column indexes at every point\n",
    "master_mse = 0\n",
    "# setting k - number of folds in the cross validation technique to 5\n",
    "k = 5\n",
    "forward_selection(X,Y,k)\n",
    "#print('-------------')\n",
    "print('The optimal set of column numbers and the corresponding MSE value')\n",
    "print('Column Numbers:', master_index)\n",
    "print('MSE:', master_mse)"
   ]
  },
  {
   "cell_type": "markdown",
   "metadata": {},
   "source": [
    "# Bonus\n",
    "The opposite of forward selection is backward selection. You start with a model using all of the columns, and then start taking away columns until you reach single predictors, and pick your optimal model that way. For the bonus, write a function that performs backward selection on $X$."
   ]
  },
  {
   "cell_type": "code",
   "execution_count": null,
   "metadata": {},
   "outputs": [],
   "source": []
  }
 ],
 "metadata": {
  "kernelspec": {
   "display_name": "Python 3 (ipykernel)",
   "language": "python",
   "name": "python3"
  },
  "language_info": {
   "codemirror_mode": {
    "name": "ipython",
    "version": 3
   },
   "file_extension": ".py",
   "mimetype": "text/x-python",
   "name": "python",
   "nbconvert_exporter": "python",
   "pygments_lexer": "ipython3",
   "version": "3.9.12"
  }
 },
 "nbformat": 4,
 "nbformat_minor": 4
}
