{
 "cells": [
  {
   "cell_type": "markdown",
   "metadata": {},
   "source": [
    "# Homework 7 - Logistic Regression\n",
    "\n",
    "### Name: Shayari Peiris\n",
    "### Collaborator: Vishwesh Srinivasan, Veer Kumar\n",
    "\n",
    "\n",
    "DATA 201A \n",
    "\n",
    "Fall 2022\n",
    "\n",
    "Tufts University"
   ]
  },
  {
   "cell_type": "markdown",
   "metadata": {},
   "source": [
    "# Homework 7 - Logistic Regression \n",
    "This homework will go over Logistic Regression ROC and AUC, and the RFECV function. There will also be a bonus question not really related to Logistic Regression but kind of, I think it will be a good challenge. The data we are using is the csv named 'surfs_up.csv'. This data has seven columns of data long with a binary classification. Each column represents a certain attribute of the days conditions, and the binary classification is whether it is a good day to surf or not (subjectively picked by the person who made the dataset). The columns, in order of appearance, are as follows:\n",
    "\n",
    "Air Temperature, in Fahrenheit\n",
    "\n",
    "\n",
    "Wind Gust, in meters per second\n",
    "\n",
    "\n",
    "Average Wave Period, in seconds\n",
    "\n",
    "\n",
    "Wind Speed, in meters per second\n",
    "\n",
    "\n",
    "Wave Height, in feet\n",
    "\n",
    "\n",
    "Water Temperature, in Fahrenheit\n",
    "\n",
    "\n",
    "Dominant Wave Period, in seconds\n",
    "\n",
    "\n",
    "In the first question I ask you to set the column names, pick column names that are appropriate."
   ]
  },
  {
   "cell_type": "code",
   "execution_count": 135,
   "metadata": {},
   "outputs": [],
   "source": [
    "import pandas as pd\n",
    "import numpy as np\n",
    "import matplotlib.pyplot as plt\n",
    "import seaborn as sns\n",
    "import matplotlib.mlab as mlab\n",
    "import scipy.stats as st\n",
    "\n",
    "#Importing Logistic Regression \n",
    "from sklearn.linear_model import LogisticRegression\n",
    "from sklearn.model_selection import train_test_split\n",
    "from sklearn.metrics import confusion_matrix, accuracy_score\n",
    "from sklearn import metrics\n",
    "from scipy.special import expit\n",
    "from sklearn.metrics import roc_curve\n",
    "from sklearn.model_selection import cross_val_score\n",
    "from sklearn.feature_selection import RFECV\n",
    "\n",
    "import warnings\n",
    "warnings.filterwarnings('ignore')"
   ]
  },
  {
   "cell_type": "markdown",
   "metadata": {},
   "source": [
    "# Question 1 - Get to know the data\n",
    "(a) Load in the data 'surfsup.csv' into a dataframe, and remove the two blank columns. Then, (b) Rename the columns based off of the data description. (c) Report how many of each class there is."
   ]
  },
  {
   "cell_type": "code",
   "execution_count": 136,
   "metadata": {},
   "outputs": [
    {
     "data": {
      "text/html": [
       "<div>\n",
       "<style scoped>\n",
       "    .dataframe tbody tr th:only-of-type {\n",
       "        vertical-align: middle;\n",
       "    }\n",
       "\n",
       "    .dataframe tbody tr th {\n",
       "        vertical-align: top;\n",
       "    }\n",
       "\n",
       "    .dataframe thead th {\n",
       "        text-align: right;\n",
       "    }\n",
       "</style>\n",
       "<table border=\"1\" class=\"dataframe\">\n",
       "  <thead>\n",
       "    <tr style=\"text-align: right;\">\n",
       "      <th></th>\n",
       "      <th>3.7625</th>\n",
       "      <th>12.37916667</th>\n",
       "      <th>4.42125</th>\n",
       "      <th>10.35833333</th>\n",
       "      <th>5.1591209</th>\n",
       "      <th>45.5</th>\n",
       "      <th>5.39375</th>\n",
       "      <th>0</th>\n",
       "    </tr>\n",
       "  </thead>\n",
       "  <tbody>\n",
       "    <tr>\n",
       "      <th>0</th>\n",
       "      <td>8.5550</td>\n",
       "      <td>12.970833</td>\n",
       "      <td>4.278000</td>\n",
       "      <td>11.254167</td>\n",
       "      <td>4.921260</td>\n",
       "      <td>44.384000</td>\n",
       "      <td>5.228000</td>\n",
       "      <td>0</td>\n",
       "    </tr>\n",
       "    <tr>\n",
       "      <th>1</th>\n",
       "      <td>22.0550</td>\n",
       "      <td>10.158333</td>\n",
       "      <td>3.908095</td>\n",
       "      <td>8.995833</td>\n",
       "      <td>3.790933</td>\n",
       "      <td>43.935714</td>\n",
       "      <td>4.502857</td>\n",
       "      <td>0</td>\n",
       "    </tr>\n",
       "    <tr>\n",
       "      <th>2</th>\n",
       "      <td>28.0700</td>\n",
       "      <td>14.495833</td>\n",
       "      <td>5.226667</td>\n",
       "      <td>12.787500</td>\n",
       "      <td>9.072206</td>\n",
       "      <td>43.981250</td>\n",
       "      <td>6.241667</td>\n",
       "      <td>0</td>\n",
       "    </tr>\n",
       "    <tr>\n",
       "      <th>3</th>\n",
       "      <td>18.2600</td>\n",
       "      <td>20.779167</td>\n",
       "      <td>6.984783</td>\n",
       "      <td>18.000000</td>\n",
       "      <td>13.118367</td>\n",
       "      <td>44.466957</td>\n",
       "      <td>10.050870</td>\n",
       "      <td>0</td>\n",
       "    </tr>\n",
       "    <tr>\n",
       "      <th>4</th>\n",
       "      <td>6.2075</td>\n",
       "      <td>19.037500</td>\n",
       "      <td>5.572500</td>\n",
       "      <td>16.233333</td>\n",
       "      <td>9.594220</td>\n",
       "      <td>43.757273</td>\n",
       "      <td>6.553864</td>\n",
       "      <td>0</td>\n",
       "    </tr>\n",
       "    <tr>\n",
       "      <th>...</th>\n",
       "      <td>...</td>\n",
       "      <td>...</td>\n",
       "      <td>...</td>\n",
       "      <td>...</td>\n",
       "      <td>...</td>\n",
       "      <td>...</td>\n",
       "      <td>...</td>\n",
       "      <td>...</td>\n",
       "    </tr>\n",
       "    <tr>\n",
       "      <th>194</th>\n",
       "      <td>65.8250</td>\n",
       "      <td>5.270833</td>\n",
       "      <td>5.052292</td>\n",
       "      <td>4.912500</td>\n",
       "      <td>2.601433</td>\n",
       "      <td>66.893750</td>\n",
       "      <td>8.404375</td>\n",
       "      <td>1</td>\n",
       "    </tr>\n",
       "    <tr>\n",
       "      <th>195</th>\n",
       "      <td>65.5850</td>\n",
       "      <td>2.633333</td>\n",
       "      <td>6.204375</td>\n",
       "      <td>2.408333</td>\n",
       "      <td>2.606217</td>\n",
       "      <td>67.482500</td>\n",
       "      <td>8.561250</td>\n",
       "      <td>1</td>\n",
       "    </tr>\n",
       "    <tr>\n",
       "      <th>196</th>\n",
       "      <td>68.6675</td>\n",
       "      <td>6.137500</td>\n",
       "      <td>4.788542</td>\n",
       "      <td>5.766667</td>\n",
       "      <td>2.935668</td>\n",
       "      <td>67.366250</td>\n",
       "      <td>7.145417</td>\n",
       "      <td>1</td>\n",
       "    </tr>\n",
       "    <tr>\n",
       "      <th>197</th>\n",
       "      <td>69.5825</td>\n",
       "      <td>5.158333</td>\n",
       "      <td>5.248750</td>\n",
       "      <td>4.862500</td>\n",
       "      <td>2.455845</td>\n",
       "      <td>68.476250</td>\n",
       "      <td>7.519792</td>\n",
       "      <td>1</td>\n",
       "    </tr>\n",
       "    <tr>\n",
       "      <th>198</th>\n",
       "      <td>66.4175</td>\n",
       "      <td>5.145833</td>\n",
       "      <td>5.789792</td>\n",
       "      <td>4.787500</td>\n",
       "      <td>2.671151</td>\n",
       "      <td>68.393750</td>\n",
       "      <td>8.203750</td>\n",
       "      <td>1</td>\n",
       "    </tr>\n",
       "  </tbody>\n",
       "</table>\n",
       "<p>199 rows × 8 columns</p>\n",
       "</div>"
      ],
      "text/plain": [
       "      3.7625  12.37916667   4.42125  10.35833333  5.1591209       45.5  \\\n",
       "0     8.5550    12.970833  4.278000    11.254167   4.921260  44.384000   \n",
       "1    22.0550    10.158333  3.908095     8.995833   3.790933  43.935714   \n",
       "2    28.0700    14.495833  5.226667    12.787500   9.072206  43.981250   \n",
       "3    18.2600    20.779167  6.984783    18.000000  13.118367  44.466957   \n",
       "4     6.2075    19.037500  5.572500    16.233333   9.594220  43.757273   \n",
       "..       ...          ...       ...          ...        ...        ...   \n",
       "194  65.8250     5.270833  5.052292     4.912500   2.601433  66.893750   \n",
       "195  65.5850     2.633333  6.204375     2.408333   2.606217  67.482500   \n",
       "196  68.6675     6.137500  4.788542     5.766667   2.935668  67.366250   \n",
       "197  69.5825     5.158333  5.248750     4.862500   2.455845  68.476250   \n",
       "198  66.4175     5.145833  5.789792     4.787500   2.671151  68.393750   \n",
       "\n",
       "       5.39375  0  \n",
       "0     5.228000  0  \n",
       "1     4.502857  0  \n",
       "2     6.241667  0  \n",
       "3    10.050870  0  \n",
       "4     6.553864  0  \n",
       "..         ... ..  \n",
       "194   8.404375  1  \n",
       "195   8.561250  1  \n",
       "196   7.145417  1  \n",
       "197   7.519792  1  \n",
       "198   8.203750  1  \n",
       "\n",
       "[199 rows x 8 columns]"
      ]
     },
     "execution_count": 136,
     "metadata": {},
     "output_type": "execute_result"
    }
   ],
   "source": [
    "#Q1 \n",
    "#(a) Load in the data 'surfsup.csv' into a dataframe, and remove the two blank columns\n",
    "data = pd.read_csv('surfs_up.csv')\n",
    "data = data.drop(columns=['Unnamed: 7', 'Unnamed: 8'])\n",
    "data"
   ]
  },
  {
   "cell_type": "code",
   "execution_count": 137,
   "metadata": {},
   "outputs": [
    {
     "data": {
      "text/html": [
       "<div>\n",
       "<style scoped>\n",
       "    .dataframe tbody tr th:only-of-type {\n",
       "        vertical-align: middle;\n",
       "    }\n",
       "\n",
       "    .dataframe tbody tr th {\n",
       "        vertical-align: top;\n",
       "    }\n",
       "\n",
       "    .dataframe thead th {\n",
       "        text-align: right;\n",
       "    }\n",
       "</style>\n",
       "<table border=\"1\" class=\"dataframe\">\n",
       "  <thead>\n",
       "    <tr style=\"text-align: right;\">\n",
       "      <th></th>\n",
       "      <th>Air Temperature, in Fahrenheit</th>\n",
       "      <th>Wind Gust, in meters per second</th>\n",
       "      <th>Average Wave Period, in seconds</th>\n",
       "      <th>Wind Speed, in meters per second</th>\n",
       "      <th>Wave Height, in feet</th>\n",
       "      <th>Water Temperature, in Fahrenheit</th>\n",
       "      <th>Dominant Wave Period, in seconds</th>\n",
       "      <th>Good day to surf?</th>\n",
       "    </tr>\n",
       "  </thead>\n",
       "  <tbody>\n",
       "    <tr>\n",
       "      <th>0</th>\n",
       "      <td>8.5550</td>\n",
       "      <td>12.970833</td>\n",
       "      <td>4.278000</td>\n",
       "      <td>11.254167</td>\n",
       "      <td>4.921260</td>\n",
       "      <td>44.384000</td>\n",
       "      <td>5.228000</td>\n",
       "      <td>0</td>\n",
       "    </tr>\n",
       "    <tr>\n",
       "      <th>1</th>\n",
       "      <td>22.0550</td>\n",
       "      <td>10.158333</td>\n",
       "      <td>3.908095</td>\n",
       "      <td>8.995833</td>\n",
       "      <td>3.790933</td>\n",
       "      <td>43.935714</td>\n",
       "      <td>4.502857</td>\n",
       "      <td>0</td>\n",
       "    </tr>\n",
       "    <tr>\n",
       "      <th>2</th>\n",
       "      <td>28.0700</td>\n",
       "      <td>14.495833</td>\n",
       "      <td>5.226667</td>\n",
       "      <td>12.787500</td>\n",
       "      <td>9.072206</td>\n",
       "      <td>43.981250</td>\n",
       "      <td>6.241667</td>\n",
       "      <td>0</td>\n",
       "    </tr>\n",
       "    <tr>\n",
       "      <th>3</th>\n",
       "      <td>18.2600</td>\n",
       "      <td>20.779167</td>\n",
       "      <td>6.984783</td>\n",
       "      <td>18.000000</td>\n",
       "      <td>13.118367</td>\n",
       "      <td>44.466957</td>\n",
       "      <td>10.050870</td>\n",
       "      <td>0</td>\n",
       "    </tr>\n",
       "    <tr>\n",
       "      <th>4</th>\n",
       "      <td>6.2075</td>\n",
       "      <td>19.037500</td>\n",
       "      <td>5.572500</td>\n",
       "      <td>16.233333</td>\n",
       "      <td>9.594220</td>\n",
       "      <td>43.757273</td>\n",
       "      <td>6.553864</td>\n",
       "      <td>0</td>\n",
       "    </tr>\n",
       "    <tr>\n",
       "      <th>...</th>\n",
       "      <td>...</td>\n",
       "      <td>...</td>\n",
       "      <td>...</td>\n",
       "      <td>...</td>\n",
       "      <td>...</td>\n",
       "      <td>...</td>\n",
       "      <td>...</td>\n",
       "      <td>...</td>\n",
       "    </tr>\n",
       "    <tr>\n",
       "      <th>194</th>\n",
       "      <td>65.8250</td>\n",
       "      <td>5.270833</td>\n",
       "      <td>5.052292</td>\n",
       "      <td>4.912500</td>\n",
       "      <td>2.601433</td>\n",
       "      <td>66.893750</td>\n",
       "      <td>8.404375</td>\n",
       "      <td>1</td>\n",
       "    </tr>\n",
       "    <tr>\n",
       "      <th>195</th>\n",
       "      <td>65.5850</td>\n",
       "      <td>2.633333</td>\n",
       "      <td>6.204375</td>\n",
       "      <td>2.408333</td>\n",
       "      <td>2.606217</td>\n",
       "      <td>67.482500</td>\n",
       "      <td>8.561250</td>\n",
       "      <td>1</td>\n",
       "    </tr>\n",
       "    <tr>\n",
       "      <th>196</th>\n",
       "      <td>68.6675</td>\n",
       "      <td>6.137500</td>\n",
       "      <td>4.788542</td>\n",
       "      <td>5.766667</td>\n",
       "      <td>2.935668</td>\n",
       "      <td>67.366250</td>\n",
       "      <td>7.145417</td>\n",
       "      <td>1</td>\n",
       "    </tr>\n",
       "    <tr>\n",
       "      <th>197</th>\n",
       "      <td>69.5825</td>\n",
       "      <td>5.158333</td>\n",
       "      <td>5.248750</td>\n",
       "      <td>4.862500</td>\n",
       "      <td>2.455845</td>\n",
       "      <td>68.476250</td>\n",
       "      <td>7.519792</td>\n",
       "      <td>1</td>\n",
       "    </tr>\n",
       "    <tr>\n",
       "      <th>198</th>\n",
       "      <td>66.4175</td>\n",
       "      <td>5.145833</td>\n",
       "      <td>5.789792</td>\n",
       "      <td>4.787500</td>\n",
       "      <td>2.671151</td>\n",
       "      <td>68.393750</td>\n",
       "      <td>8.203750</td>\n",
       "      <td>1</td>\n",
       "    </tr>\n",
       "  </tbody>\n",
       "</table>\n",
       "<p>199 rows × 8 columns</p>\n",
       "</div>"
      ],
      "text/plain": [
       "     Air Temperature, in Fahrenheit  Wind Gust, in meters per second  \\\n",
       "0                            8.5550                        12.970833   \n",
       "1                           22.0550                        10.158333   \n",
       "2                           28.0700                        14.495833   \n",
       "3                           18.2600                        20.779167   \n",
       "4                            6.2075                        19.037500   \n",
       "..                              ...                              ...   \n",
       "194                         65.8250                         5.270833   \n",
       "195                         65.5850                         2.633333   \n",
       "196                         68.6675                         6.137500   \n",
       "197                         69.5825                         5.158333   \n",
       "198                         66.4175                         5.145833   \n",
       "\n",
       "     Average Wave Period, in seconds  Wind Speed, in meters per second  \\\n",
       "0                           4.278000                         11.254167   \n",
       "1                           3.908095                          8.995833   \n",
       "2                           5.226667                         12.787500   \n",
       "3                           6.984783                         18.000000   \n",
       "4                           5.572500                         16.233333   \n",
       "..                               ...                               ...   \n",
       "194                         5.052292                          4.912500   \n",
       "195                         6.204375                          2.408333   \n",
       "196                         4.788542                          5.766667   \n",
       "197                         5.248750                          4.862500   \n",
       "198                         5.789792                          4.787500   \n",
       "\n",
       "     Wave Height, in feet  Water Temperature, in Fahrenheit  \\\n",
       "0                4.921260                         44.384000   \n",
       "1                3.790933                         43.935714   \n",
       "2                9.072206                         43.981250   \n",
       "3               13.118367                         44.466957   \n",
       "4                9.594220                         43.757273   \n",
       "..                    ...                               ...   \n",
       "194              2.601433                         66.893750   \n",
       "195              2.606217                         67.482500   \n",
       "196              2.935668                         67.366250   \n",
       "197              2.455845                         68.476250   \n",
       "198              2.671151                         68.393750   \n",
       "\n",
       "     Dominant Wave Period, in seconds  Good day to surf?  \n",
       "0                            5.228000                  0  \n",
       "1                            4.502857                  0  \n",
       "2                            6.241667                  0  \n",
       "3                           10.050870                  0  \n",
       "4                            6.553864                  0  \n",
       "..                                ...                ...  \n",
       "194                          8.404375                  1  \n",
       "195                          8.561250                  1  \n",
       "196                          7.145417                  1  \n",
       "197                          7.519792                  1  \n",
       "198                          8.203750                  1  \n",
       "\n",
       "[199 rows x 8 columns]"
      ]
     },
     "execution_count": 137,
     "metadata": {},
     "output_type": "execute_result"
    }
   ],
   "source": [
    "#Q1 cont\n",
    "#(b) Rename the columns based off of the data description\n",
    "data = data.rename(columns={'3.7625': 'Air Temperature, in Fahrenheit', \n",
    "                            '12.37916667': 'Wind Gust, in meters per second', \n",
    "                            '4.42125': 'Average Wave Period, in seconds', \n",
    "                            '10.35833333': 'Wind Speed, in meters per second',\n",
    "                            '5.1591209': 'Wave Height, in feet',\n",
    "                            '45.5': 'Water Temperature, in Fahrenheit', \n",
    "                            '5.39375': 'Dominant Wave Period, in seconds', \n",
    "                            '0': 'Good day to surf?'})\n",
    "data"
   ]
  },
  {
   "cell_type": "code",
   "execution_count": 138,
   "metadata": {},
   "outputs": [
    {
     "data": {
      "text/plain": [
       "0    101\n",
       "1     98\n",
       "Name: Good day to surf?, dtype: int64"
      ]
     },
     "execution_count": 138,
     "metadata": {},
     "output_type": "execute_result"
    }
   ],
   "source": [
    "#Q1 cont\n",
    "#(c) Report how many of each class there is\n",
    "data['Good day to surf?'].value_counts()"
   ]
  },
  {
   "cell_type": "markdown",
   "metadata": {},
   "source": [
    "# Question 2 - An ROC curve from basic threshold classification\n",
    "(a) Create a new variable that is just the Dominant Wave Period column, and also create a response column variable. (b) Create a function that takes in a Series and a threshold, and returns a series of predictions based off of the threshold (1 for above the threshold, 0 for below it). (c) Create a linear range of 10 points in the actual range of the data, run your function on each point as your threshold value, and at each point find the TPR and FPR associated with the threshold. (d) Plot the points as pairs (FPR,TPR), but first sorting by FPR. (e) Repeat part (c) and (d) except for 25 different thresholds in the range."
   ]
  },
  {
   "cell_type": "code",
   "execution_count": 139,
   "metadata": {},
   "outputs": [],
   "source": [
    "#Q2 (I would suggest using individual cell for each sub question)\n",
    "#(a)\n",
    "#creating 2 series for the columns we're interested in \n",
    "dom_wave_period = data['Dominant Wave Period, in seconds']\n",
    "response_actual = data['Good day to surf?']"
   ]
  },
  {
   "cell_type": "code",
   "execution_count": 140,
   "metadata": {},
   "outputs": [],
   "source": [
    "#Q2\n",
    "#(b)\n",
    "# defining the function\n",
    "def predictor(series, threshold):\n",
    "    res_list = []\n",
    "    for i in range(len(series)):\n",
    "        if series[i] > threshold:\n",
    "            res_list.append(1)\n",
    "        else:\n",
    "            res_list.append(0)\n",
    "    response = pd.Series(res_list)\n",
    "    return response"
   ]
  },
  {
   "cell_type": "code",
   "execution_count": 141,
   "metadata": {},
   "outputs": [],
   "source": [
    "#Q2 \n",
    "#(c)\n",
    "# calculating the TPR and FPR of the predictions of the above defined function for 10 different thresholds \n",
    "metric = []\n",
    "input_series = np.linspace(min(dom_wave_period), max(dom_wave_period),10)\n",
    "for i in input_series:\n",
    "    response = predictor(dom_wave_period, i)\n",
    "    cm = confusion_matrix(response_actual,response)\n",
    "    TN = cm[0,0]\n",
    "    TP = cm[1,1]\n",
    "    FN = cm[1,0]\n",
    "    FP = cm[0,1]\n",
    "    TPR = round(TP/float(TP+FN),3)\n",
    "    FPR = round((1- round(TN/float(TN+FP),3)),3)\n",
    "    metric.append((TPR,FPR))"
   ]
  },
  {
   "cell_type": "code",
   "execution_count": 142,
   "metadata": {},
   "outputs": [
    {
     "data": {
      "image/png": "[encoded data removed]",
      "text/plain": [
       "<Figure size 432x288 with 1 Axes>"
      ]
     },
     "metadata": {
      "needs_background": "light"
     },
     "output_type": "display_data"
    }
   ],
   "source": [
    "#Q2 \n",
    "#(d)\n",
    "#plotting the ROC curve\n",
    "metric.sort(key=lambda x: x[1])\n",
    "plt.plot([x[1] for x in metric], [x[0] for x in metric])\n",
    "plt.xlabel('False positive rate (1-Specificity)')\n",
    "plt.ylabel('True positive rate (Sensitivity)')\n",
    "plt.grid(True)"
   ]
  },
  {
   "cell_type": "code",
   "execution_count": 143,
   "metadata": {},
   "outputs": [
    {
     "data": {
      "image/png": "[encoded data removed]",
      "text/plain": [
       "<Figure size 432x288 with 1 Axes>"
      ]
     },
     "metadata": {
      "needs_background": "light"
     },
     "output_type": "display_data"
    }
   ],
   "source": [
    "#Q2 \n",
    "#(e)\n",
    "# calculating the TPR and FPR of the predictions of the above defined function for 25 different thresholds \n",
    "metric = []\n",
    "input_series = np.linspace(min(dom_wave_period), max(dom_wave_period),25)\n",
    "for i in input_series:\n",
    "    response = predictor(dom_wave_period, i)\n",
    "    cm = confusion_matrix(response_actual,response)\n",
    "    TN = cm[0,0]\n",
    "    TP = cm[1,1]\n",
    "    FN = cm[1,0]\n",
    "    FP = cm[0,1]\n",
    "    TPR = round(TP/float(TP+FN),3)\n",
    "    FPR = round((1- round(TN/float(TN+FP),3)),3)\n",
    "    metric.append((TPR,FPR))\n",
    "# plotting the ROC curve\n",
    "metric.sort(key = lambda x: x[1])\n",
    "plt.plot([x[1] for x in metric], [x[0] for x in metric])\n",
    "plt.xlabel('False positive rate (1-Specificity)')\n",
    "plt.ylabel('True positive rate (Sensitivity)')\n",
    "plt.grid(True)"
   ]
  },
  {
   "cell_type": "markdown",
   "metadata": {},
   "source": [
    "# Question 3 - One-Dim Logistic Regression\n",
    "(a) Run a logistic regression on the single column we were using in Q2, using a testsize of 0.3. Create and display the confusion matrix, report the accuracy. (b) Pull the coefficient and intercept out of the model and transform the Series based off of the sigmoid function. Plot the transformed data against the original data, i.e. the series will be the x variable and the transformed data will be the y data. What is a reasonable decision threshold here? (c) Plot the ROC curve for the model and report the AUC."
   ]
  },
  {
   "cell_type": "code",
   "execution_count": 144,
   "metadata": {},
   "outputs": [
    {
     "data": {
      "text/plain": [
       "array([0, 0, 1, 0, 0, 0, 0, 1, 1, 0, 1, 1, 0, 0, 1, 0, 0, 1, 0, 0, 0, 0,\n",
       "       1, 0, 1, 0, 1, 0, 0, 1, 1, 1, 1, 1, 0, 0, 0, 0, 0, 1, 0, 1, 0, 0,\n",
       "       0, 1, 0, 0, 1, 1, 1, 0, 1, 1, 0, 0, 0, 0, 0, 1])"
      ]
     },
     "execution_count": 144,
     "metadata": {},
     "output_type": "execute_result"
    }
   ],
   "source": [
    "#Q3\n",
    "#(a) #Creating independent (Predictor) and dependent variables (Target)\n",
    "\n",
    "X = data[['Dominant Wave Period, in seconds']]\n",
    "\n",
    "y = data['Good day to surf?']\n",
    "\n",
    "#Splitting the data into training and testing (70% Train and 30% Test)\n",
    "X_train, X_test, y_train, y_test = train_test_split(X, y, test_size=0.3, random_state=0)\n",
    "\n",
    "#Instantiating the LogisticRegression Object\n",
    "logreg = LogisticRegression()\n",
    "\n",
    "#Fitting the model on our training data using fit method\n",
    "logreg.fit(X_train, y_train)\n",
    "\n",
    "#Making predictions on Testing Model\n",
    "y_pred = logreg.predict(X_test)\n",
    "y_pred"
   ]
  },
  {
   "cell_type": "code",
   "execution_count": 145,
   "metadata": {},
   "outputs": [
    {
     "data": {
      "image/png": "[encoded data removed]",
      "text/plain": [
       "<Figure size 576x360 with 2 Axes>"
      ]
     },
     "metadata": {
      "needs_background": "light"
     },
     "output_type": "display_data"
    }
   ],
   "source": [
    "#Q3\n",
    "#(a) cont\n",
    "\n",
    "#Creating Confusion Matrix to evaluate the model\n",
    "cm = confusion_matrix(y_test,y_pred)\n",
    "conf_matrix=pd.DataFrame(data=cm,columns=['Predicted:0','Predicted:1'],index=['Actual:0','Actual:1'])\n",
    "plt.figure(figsize = (8,5))\n",
    "sns.heatmap(conf_matrix, annot=True, fmt='d', cmap=\"YlGnBu\")\n",
    "plt.show()"
   ]
  },
  {
   "cell_type": "code",
   "execution_count": 146,
   "metadata": {},
   "outputs": [
    {
     "name": "stdout",
     "output_type": "stream",
     "text": [
      "The acuracy of the model = TP+TN/(TP+TN+FP+FN) =  0.783\n"
     ]
    }
   ],
   "source": [
    "#Q3\n",
    "#(a) cont\n",
    "# finding the accuracy of the model\n",
    "#True Negative, True Positive, False Negative, False Positive\n",
    "TN=cm[0,0]\n",
    "TP=cm[1,1]\n",
    "FN=cm[1,0]\n",
    "FP=cm[0,1]\n",
    "\n",
    "#Accuracy\n",
    "print('The acuracy of the model = TP+TN/(TP+TN+FP+FN) = ', round((TP+TN)/float(TP+TN+FP+FN),3))"
   ]
  },
  {
   "cell_type": "code",
   "execution_count": 147,
   "metadata": {},
   "outputs": [
    {
     "data": {
      "image/png": "[encoded data removed]",
      "text/plain": [
       "<Figure size 432x288 with 1 Axes>"
      ]
     },
     "metadata": {
      "needs_background": "light"
     },
     "output_type": "display_data"
    }
   ],
   "source": [
    "#Q3\n",
    "#(b)\n",
    "#plotting the sigmoid function\n",
    "x = np.linspace(0,30,100)\n",
    "sigmoid = expit(x * logreg.coef_ + logreg.intercept_)\n",
    "plt.plot(x,sigmoid.ravel())\n",
    "plt.xlabel('x')\n",
    "plt.ylabel('Sigmoid(x)')\n",
    "plt.grid(True)\n",
    "plt.show()"
   ]
  },
  {
   "cell_type": "code",
   "execution_count": 148,
   "metadata": {},
   "outputs": [
    {
     "data": {
      "image/png": "[encoded data removed]",
      "text/plain": [
       "<Figure size 432x288 with 1 Axes>"
      ]
     },
     "metadata": {
      "needs_background": "light"
     },
     "output_type": "display_data"
    }
   ],
   "source": [
    "#Q3\n",
    "#(c)\n",
    "### plotting the ROC Curve\n",
    "from sklearn.metrics import roc_curve\n",
    "\n",
    "y_pred_prob_yes=logreg.predict_proba(X_test)\n",
    "\n",
    "fpr, tpr, thresholds = roc_curve(y_test, y_pred_prob_yes[:,1])\n",
    "plt.plot(fpr,tpr)\n",
    "plt.title('ROC curve for Good day to surf? Classifier')\n",
    "plt.xlabel('False positive rate (1-Specificity)')\n",
    "plt.ylabel('True positive rate (Sensitivity)')\n",
    "\n",
    "plt.grid(True)"
   ]
  },
  {
   "cell_type": "code",
   "execution_count": 149,
   "metadata": {},
   "outputs": [
    {
     "data": {
      "text/plain": [
       "0.935"
      ]
     },
     "execution_count": 149,
     "metadata": {},
     "output_type": "execute_result"
    }
   ],
   "source": [
    "#Q3\n",
    "#(c) cont\n",
    "#AUC - Area Under Curve\n",
    "\n",
    "round(metrics.roc_auc_score(y_test,y_pred_prob_yes[:,1]),3)"
   ]
  },
  {
   "cell_type": "markdown",
   "metadata": {},
   "source": [
    "# Question 4 - More Dimensions\n",
    "Run a Logistic Regression on the data, using cross validation with five folds, and report the average accuracy of the model."
   ]
  },
  {
   "cell_type": "code",
   "execution_count": 150,
   "metadata": {},
   "outputs": [
    {
     "data": {
      "text/plain": [
       "Index(['Air Temperature, in Fahrenheit', 'Wind Gust, in meters per second',\n",
       "       'Average Wave Period, in seconds', 'Wind Speed, in meters per second',\n",
       "       'Wave Height, in feet', 'Water Temperature, in Fahrenheit',\n",
       "       'Dominant Wave Period, in seconds', 'Good day to surf?'],\n",
       "      dtype='object')"
      ]
     },
     "execution_count": 150,
     "metadata": {},
     "output_type": "execute_result"
    }
   ],
   "source": [
    "#Q4\n",
    "#To view the columns for creating dependent and independent variables\n",
    "data.columns"
   ]
  },
  {
   "cell_type": "code",
   "execution_count": 151,
   "metadata": {},
   "outputs": [],
   "source": [
    "#Q4 cont\n",
    "#Creating independent (Predictor) and dependent variables (Target)\n",
    "X = data[['Air Temperature, in Fahrenheit', 'Wind Gust, in meters per second',\n",
    "       'Average Wave Period, in seconds', 'Wind Speed, in meters per second',\n",
    "       'Wave Height, in feet', 'Water Temperature, in Fahrenheit',\n",
    "       'Dominant Wave Period, in seconds']]\n",
    "\n",
    "y = data['Good day to surf?']\n",
    "\n",
    "#Splitting the data into training and testing (70% Train and 30% Test)\n",
    "X_train, X_test, y_train, y_test = train_test_split(X, y, test_size=0.3, random_state=0)\n",
    "\n",
    "#Instantiating the LogisticRegression Object\n",
    "logreg = LogisticRegression()"
   ]
  },
  {
   "cell_type": "code",
   "execution_count": 152,
   "metadata": {},
   "outputs": [
    {
     "data": {
      "text/plain": [
       "LogisticRegression()"
      ]
     },
     "execution_count": 152,
     "metadata": {},
     "output_type": "execute_result"
    }
   ],
   "source": [
    "#Q4 cont\n",
    "#Fitting the model on our training data using fit method\n",
    "logreg.fit(X_train, y_train)"
   ]
  },
  {
   "cell_type": "code",
   "execution_count": 153,
   "metadata": {},
   "outputs": [
    {
     "data": {
      "text/plain": [
       "array([0, 1, 1, 1, 0, 0, 0, 1, 1, 0, 1, 1, 0, 0, 1, 0, 0, 1, 0, 0, 0, 0,\n",
       "       1, 1, 1, 1, 1, 1, 0, 0, 1, 1, 1, 0, 0, 0, 1, 0, 1, 1, 0, 1, 1, 1,\n",
       "       1, 1, 0, 0, 1, 1, 1, 0, 1, 1, 0, 0, 0, 0, 0, 1])"
      ]
     },
     "execution_count": 153,
     "metadata": {},
     "output_type": "execute_result"
    }
   ],
   "source": [
    "#Q4 cont\n",
    "#Making predictions on Testing Model\n",
    "y_pred = logreg.predict(X_test)\n",
    "y_pred"
   ]
  },
  {
   "cell_type": "code",
   "execution_count": 154,
   "metadata": {},
   "outputs": [
    {
     "name": "stdout",
     "output_type": "stream",
     "text": [
      "K-fold cross-validation results:\n",
      "LogisticRegression average accuracy is 0.798\n"
     ]
    }
   ],
   "source": [
    "#Q4 cont\n",
    "# 5-fold cross-validation logistic regression\n",
    "from sklearn.model_selection import cross_val_score\n",
    "logreg = LogisticRegression()\n",
    "\n",
    "# Use cross_val_score function\n",
    "# We are passing the entirety of X and y since cross validation takes care of splitting the data\n",
    "# cv=10 for 10 folds\n",
    "# scoring = {'accuracy', 'roc_auc'} for evaluation metric - althought they are many\n",
    "scores_accuracy = cross_val_score(logreg, X, y, cv=5, scoring='accuracy')\n",
    "scores_log_loss = cross_val_score(logreg, X, y, cv=5, scoring='neg_log_loss')\n",
    "scores_auc = cross_val_score(logreg, X, y, cv=5, scoring='roc_auc')\n",
    "\n",
    "print('K-fold cross-validation results:')\n",
    "print(logreg.__class__.__name__+\" average accuracy is %2.3f\" % scores_accuracy.mean())"
   ]
  },
  {
   "cell_type": "markdown",
   "metadata": {},
   "source": [
    "# Question 5 - Feature Selection\n",
    "(a) Use the REFCV function with a step of one, five folds of cross validation, and accuracy as your scoring. (b) How many features, and which features were selected? (c) Plot number of features against the accuracy at each step."
   ]
  },
  {
   "cell_type": "code",
   "execution_count": 155,
   "metadata": {},
   "outputs": [
    {
     "data": {
      "text/plain": [
       "RFECV(cv=5, estimator=LogisticRegression(), scoring='accuracy')"
      ]
     },
     "execution_count": 155,
     "metadata": {},
     "output_type": "execute_result"
    }
   ],
   "source": [
    "#Q5\n",
    "#(a) Use the REFCV function with a step of one, five folds of cross validation, and accuracy as your scoring\n",
    "#To check accuracy of cross validation score with respect to number of features\n",
    "\n",
    "col = X_train.columns\n",
    "\n",
    "rfecv = RFECV(estimator=LogisticRegression(), step=1, cv=5, scoring='accuracy')\n",
    "rfecv.fit(X_train, y_train.values.ravel())"
   ]
  },
  {
   "cell_type": "code",
   "execution_count": 156,
   "metadata": {},
   "outputs": [
    {
     "name": "stdout",
     "output_type": "stream",
     "text": [
      "Optimal number of features: 3\n",
      "Selected features: ['Wind Gust, in meters per second', 'Average Wave Period, in seconds', 'Wave Height, in feet']\n"
     ]
    }
   ],
   "source": [
    "#Q5\n",
    "#(b) How many features, and which features were selected?\n",
    "print(\"Optimal number of features: %d\" % rfecv.n_features_)\n",
    "print('Selected features: %s' % list(X_train.columns[rfecv.support_]))"
   ]
  },
  {
   "cell_type": "code",
   "execution_count": 157,
   "metadata": {},
   "outputs": [
    {
     "data": {
      "text/plain": [
       "array([[0.89285714, 0.96428571, 0.82142857, 0.82142857, 0.85185185],\n",
       "       [0.92857143, 0.96428571, 0.82142857, 0.82142857, 0.81481481],\n",
       "       [0.92857143, 0.96428571, 0.82142857, 0.82142857, 0.85185185],\n",
       "       [0.82142857, 0.92857143, 0.82142857, 0.82142857, 0.85185185],\n",
       "       [0.82142857, 0.92857143, 0.82142857, 0.82142857, 0.88888889],\n",
       "       [0.82142857, 0.92857143, 0.82142857, 0.78571429, 0.88888889],\n",
       "       [0.82142857, 0.92857143, 0.82142857, 0.78571429, 0.88888889]])"
      ]
     },
     "execution_count": 157,
     "metadata": {},
     "output_type": "execute_result"
    }
   ],
   "source": [
    "#Q5\n",
    "#(b)\n",
    "rfecv.grid_scores_"
   ]
  },
  {
   "cell_type": "code",
   "execution_count": 158,
   "metadata": {},
   "outputs": [
    {
     "data": {
      "text/plain": [
       "RFECV(cv=5, estimator=LogisticRegression(), scoring='accuracy')"
      ]
     },
     "execution_count": 158,
     "metadata": {},
     "output_type": "execute_result"
    }
   ],
   "source": [
    "#Q5\n",
    "#(b)\n",
    "rfecv"
   ]
  },
  {
   "cell_type": "code",
   "execution_count": 159,
   "metadata": {},
   "outputs": [
    {
     "data": {
      "image/png": "[encoded data removed]",
      "text/plain": [
       "<Figure size 720x432 with 1 Axes>"
      ]
     },
     "metadata": {
      "needs_background": "light"
     },
     "output_type": "display_data"
    }
   ],
   "source": [
    "##Q5\n",
    "#(c) Plot number of features against the accuracy at each step\n",
    "\n",
    "# Plot number of features VS. accuracy at each step\n",
    "plt.figure(figsize=(10,6))\n",
    "plt.title('Number of Features Selected vs. Accuracy at Each Step')\n",
    "plt.xlabel(\"Number of Features Selected\")\n",
    "plt.ylabel(\"Accuracy at Each Step\")\n",
    "plt.plot(range(1, len(rfecv.grid_scores_) + 1), rfecv.grid_scores_)\n",
    "plt.show()"
   ]
  },
  {
   "cell_type": "markdown",
   "metadata": {},
   "source": [
    "# Bonus (up to +10 on Total Score)\n",
    "Write a function that takes in two series, one is the $X$ data, the other will be the classifications $y$, and returns the best (ish) threshold for classification, and the accuracy associated with that threshold. Any method can be used. Test the code on the column used in Q2."
   ]
  },
  {
   "cell_type": "code",
   "execution_count": 160,
   "metadata": {},
   "outputs": [
    {
     "ename": "IndentationError",
     "evalue": "expected an indented block (2376915407.py, line 2)",
     "output_type": "error",
     "traceback": [
      "\u001b[0;36m  Input \u001b[0;32mIn [160]\u001b[0;36m\u001b[0m\n\u001b[0;31m    def best_threshold(X,y):\u001b[0m\n\u001b[0m                            ^\u001b[0m\n\u001b[0;31mIndentationError\u001b[0m\u001b[0;31m:\u001b[0m expected an indented block\n"
     ]
    }
   ],
   "source": [
    "#Bonus\n",
    "def best_threshold(X,y):"
   ]
  }
 ],
 "metadata": {
  "kernelspec": {
   "display_name": "Python 3 (ipykernel)",
   "language": "python",
   "name": "python3"
  },
  "language_info": {
   "codemirror_mode": {
    "name": "ipython",
    "version": 3
   },
   "file_extension": ".py",
   "mimetype": "text/x-python",
   "name": "python",
   "nbconvert_exporter": "python",
   "pygments_lexer": "ipython3",
   "version": "3.9.12"
  }
 },
 "nbformat": 4,
 "nbformat_minor": 4
}
