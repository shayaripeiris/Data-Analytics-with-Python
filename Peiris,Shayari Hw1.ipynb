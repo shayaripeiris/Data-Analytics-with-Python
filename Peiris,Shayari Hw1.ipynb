{
 "cells": [
  {
   "cell_type": "markdown",
   "metadata": {
    "id": "t9rLbLMsJSQu"
   },
   "source": [
    "# **Homework 1: Python Computation and Creating Functions**\n",
    "\n",
    "### Name: Shayari Peiris\n",
    "### Collaborator: Ahmed, Veer, Vishwesh\n",
    "\n",
    "\n",
    "DATA 201A \n",
    "\n",
    "Fall 2022\n",
    "\n",
    "Tufts University"
   ]
  },
  {
   "cell_type": "markdown",
   "metadata": {
    "id": "KwT1ae5_PRqZ"
   },
   "source": [
    "## 1. Even/Odd Numbers"
   ]
  },
  {
   "cell_type": "markdown",
   "metadata": {
    "id": "kYmncl7bhn4B"
   },
   "source": [
    "Use a for loop or a while loop to print out every element of the array 'numbers' below that is EVEN. If the element is ODD, print out -1. "
   ]
  },
  {
   "cell_type": "code",
   "execution_count": 18,
   "metadata": {
    "id": "nCss_14uhQ5e",
    "scrolled": true
   },
   "outputs": [
    {
     "name": "stdout",
     "output_type": "stream",
     "text": [
      "73416 240410 -1 29952 -1 -1 778050 718420 -1 232852 -1 296580 -1 361170 883564 -1 220304 -1 -1 -1 "
     ]
    }
   ],
   "source": [
    "#Problem 1\n",
    "\n",
    "from random import randint\n",
    "\n",
    "numbers = [randint(10000, 999999) for i in range(20)]\n",
    "numbers\n",
    "\n",
    "## TO DO\n",
    "# print; use IF ELSE\n",
    "for i in numbers:\n",
    "    if i % 2 == 0:\n",
    "        print(i, end = \" \")\n",
    "    else: \n",
    "        print(-1, end = \" \")"
   ]
  },
  {
   "cell_type": "code",
   "execution_count": null,
   "metadata": {},
   "outputs": [],
   "source": [
    "## 2. Calculate Circle Area"
   ]
  },
  {
   "cell_type": "markdown",
   "metadata": {},
   "source": [
    "1) A circle is inscribed in a square where the edges of the circle touches the inner edges of the square. Write a Python function \"calc_circle_area\" which takes in the area of the outer square from the user and compute the area of the inscribed circle."
   ]
  },
  {
   "cell_type": "code",
   "execution_count": 2,
   "metadata": {},
   "outputs": [],
   "source": [
    "#Problem 2\n",
    "\n",
    "#defining the function\n",
    "from math import pi, sqrt\n",
    "\n",
    "##TO DO\n",
    "##Complete the function that starts with \"def\"\n",
    "\n",
    "#circle area = pi * r * r\n",
    "#square area = length * width\n",
    "#square side = diameter of circle\n",
    "#radius = sqrt(square area)/2\n",
    "#circle area = pi * (sqrt(square area)/2) * (sqrt(square area)/2)\n",
    "#x = area of the square\n",
    "def calc_circle_area(x): \n",
    "    return pi * (((sqrt(x))/2) * ((sqrt(x))/2))"
   ]
  },
  {
   "cell_type": "code",
   "execution_count": 16,
   "metadata": {},
   "outputs": [
    {
     "name": "stdout",
     "output_type": "stream",
     "text": [
      "Area of the outer square: 90.89\n",
      "Area of the inscribed circle:  71.38483907119408\n"
     ]
    }
   ],
   "source": [
    "#input outer square area to compute the area of the inscribed circle using calc_circle_area function\n",
    "\n",
    "x=float(input(\"Area of the outer square: \"))\n",
    "print(\"Area of the inscribed circle: \", calc_circle_area(x))"
   ]
  },
  {
   "cell_type": "markdown",
   "metadata": {},
   "source": [
    "2) Use the function you created in 1) to compute the areas of circles with the area of out squares in the given list \"squares\". Store the results in a list and print the results in the format of \"The areas of circles are: \" plus the list of the results that is sorted from the largest to the smallest."
   ]
  },
  {
   "cell_type": "code",
   "execution_count": 7,
   "metadata": {},
   "outputs": [
    {
     "name": "stdout",
     "output_type": "stream",
     "text": [
      "0.7853981633974483 28.274333882308138 7.0685834705770345 19.634954084936208 63.61725123519331 95.03317777109125 3.141592653589793 12.566370614359172 "
     ]
    }
   ],
   "source": [
    "#Problem 2 cont\n",
    "\n",
    "#calculating the areas of circles in given square areas (from squares list)\n",
    "\n",
    "squares = [1,36,9,25,81,121,4,16]\n",
    "\n",
    "##TO DO\n",
    "##Build a loop to calculate area of circles, sort list, and print\n",
    "\n",
    "for x in [1,36,9,25,81,121,4,16]:\n",
    "    print(calc_circle_area(x), end = \" \")"
   ]
  },
  {
   "cell_type": "code",
   "execution_count": 8,
   "metadata": {
    "scrolled": false
   },
   "outputs": [
    {
     "name": "stdout",
     "output_type": "stream",
     "text": [
      "[95.03317777109125, 63.61725123519331, 28.274333882308138, 19.634954084936208, 12.566370614359172, 7.0685834705770345, 3.141592653589793, 0.7853981633974483] "
     ]
    }
   ],
   "source": [
    "#Problem 2 cont\n",
    "\n",
    "#sorting the circle areas from largest to smallest\n",
    "\n",
    "circle_area = [0.7853981633974483, 28.274333882308138, 7.0685834705770345, 19.634954084936208, 63.61725123519331, 95.03317777109125, 3.141592653589793, 12.566370614359172]\n",
    "circle_area.sort(reverse = True)\n",
    "print(circle_area, end = \" \")"
   ]
  },
  {
   "cell_type": "code",
   "execution_count": 17,
   "metadata": {},
   "outputs": [
    {
     "name": "stdout",
     "output_type": "stream",
     "text": [
      "['The areas of circles are:', 95.03317777109125, 63.61725123519331, 28.274333882308138, 19.634954084936208, 12.566370614359172, 7.0685834705770345, 3.141592653589793, 0.7853981633974483] "
     ]
    }
   ],
   "source": [
    "#Problem 2 cont\n",
    "\n",
    "#printing results using the format \"the areas of circles are:\"\n",
    "\n",
    "L = [\"The areas of circles are:\"]\n",
    "print(L + circle_area, end = \" \")"
   ]
  },
  {
   "cell_type": "markdown",
   "metadata": {},
   "source": [
    "## 3. Accessing Dictionary"
   ]
  },
  {
   "cell_type": "markdown",
   "metadata": {},
   "source": [
    "1) In the given dictionary \"nums\", multiply each value by 2 and show the result dictionary."
   ]
  },
  {
   "cell_type": "code",
   "execution_count": 10,
   "metadata": {},
   "outputs": [
    {
     "name": "stdout",
     "output_type": "stream",
     "text": [
      "{'a': 200, 'b': 400, 'c': 600, 'd': 240, 'e': 800, 'f': 100, 'g': 300}\n"
     ]
    }
   ],
   "source": [
    "#Problem 3\n",
    "nums = {'a': 100, 'b':200, 'c':300, 'd':120, 'e':400, 'f':50, 'g':150}\n",
    "\n",
    "##TO DO\n",
    "\n",
    "# Multiply every value in nums by 2\n",
    "for key in nums:    \n",
    "    nums[key] *=  2\n",
    "print(nums)"
   ]
  },
  {
   "cell_type": "markdown",
   "metadata": {},
   "source": [
    "2) In the original dictionary \"nums\", sum all the values and print the result."
   ]
  },
  {
   "cell_type": "code",
   "execution_count": 11,
   "metadata": {},
   "outputs": [
    {
     "name": "stdout",
     "output_type": "stream",
     "text": [
      "1320\n"
     ]
    }
   ],
   "source": [
    "#Problem 3 cont\n",
    "\n",
    "nums = {'a': 100, 'b':200, 'c':300, 'd':120, 'e':400, 'f':50, 'g':150}\n",
    "\n",
    "##TO DO\n",
    "\n",
    "sum(nums.values())\n",
    "print(sum(nums.values()))"
   ]
  },
  {
   "cell_type": "markdown",
   "metadata": {},
   "source": [
    "3) For each of the two words \"bag\" and \"feed\", calculate the average value of the word where the average value is defined by adding up the values of each letters according to the dictionary \"nums\" then divide by the length of the word. Create a dictionary that records the word \"bag\" and its corresponding sum value, and the word \"feed\" and its correponding sum value."
   ]
  },
  {
   "cell_type": "code",
   "execution_count": 12,
   "metadata": {},
   "outputs": [
    {
     "name": "stdout",
     "output_type": "stream",
     "text": [
      "150.0\n"
     ]
    }
   ],
   "source": [
    "#Problem 3 cont\n",
    "\n",
    "nums = {'a': 100, 'b':200, 'c':300, 'd':120, 'e':400, 'f':50, 'g':150}\n",
    "\n",
    "##TO DO\n",
    "\n",
    "#average value of \"bag\"\n",
    "cum = 0\n",
    "for i in 'bag': \n",
    "    cum += nums[i]\n",
    "print((cum)/len('bag'))"
   ]
  },
  {
   "cell_type": "code",
   "execution_count": 13,
   "metadata": {},
   "outputs": [
    {
     "name": "stdout",
     "output_type": "stream",
     "text": [
      "242.5\n"
     ]
    }
   ],
   "source": [
    "#Problem 3 cont\n",
    "\n",
    "#average value of \"feed\"\n",
    "cum = 0\n",
    "for i in 'feed': \n",
    "    cum += nums[i]\n",
    "print((cum)/len('feed'))"
   ]
  },
  {
   "cell_type": "code",
   "execution_count": 19,
   "metadata": {},
   "outputs": [
    {
     "name": "stdout",
     "output_type": "stream",
     "text": [
      "450\n"
     ]
    }
   ],
   "source": [
    "#sum value of \"bag\"\n",
    "cum = 0\n",
    "for i in 'bag': \n",
    "    cum += nums[i]\n",
    "print((cum))"
   ]
  },
  {
   "cell_type": "code",
   "execution_count": 20,
   "metadata": {},
   "outputs": [
    {
     "name": "stdout",
     "output_type": "stream",
     "text": [
      "970\n"
     ]
    }
   ],
   "source": [
    "#sum value of \"feed\"\n",
    "cum = 0\n",
    "for i in 'feed': \n",
    "    cum += nums[i]\n",
    "print((cum))"
   ]
  },
  {
   "cell_type": "code",
   "execution_count": 22,
   "metadata": {},
   "outputs": [],
   "source": [
    "#Problem 3 cont\n",
    "\n",
    "#dict for sum values of \"bag\" and \"feed\"\n",
    "bagfeed = {\"bag\": 450, \n",
    "          \"feed\": 970}"
   ]
  },
  {
   "cell_type": "code",
   "execution_count": 25,
   "metadata": {},
   "outputs": [
    {
     "name": "stdout",
     "output_type": "stream",
     "text": [
      "{'bag': 450, 'feed': 970}\n"
     ]
    }
   ],
   "source": [
    "print(bagfeed)"
   ]
  }
 ],
 "metadata": {
  "colab": {
   "collapsed_sections": [],
   "name": "DATA201A_HW1.ipynb",
   "provenance": []
  },
  "kernelspec": {
   "display_name": "Python 3 (ipykernel)",
   "language": "python",
   "name": "python3"
  },
  "language_info": {
   "codemirror_mode": {
    "name": "ipython",
    "version": 3
   },
   "file_extension": ".py",
   "mimetype": "text/x-python",
   "name": "python",
   "nbconvert_exporter": "python",
   "pygments_lexer": "ipython3",
   "version": "3.9.12"
  }
 },
 "nbformat": 4,
 "nbformat_minor": 1
}
