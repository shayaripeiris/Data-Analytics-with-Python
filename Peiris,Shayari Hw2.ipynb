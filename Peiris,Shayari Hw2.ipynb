{
 "cells": [
  {
   "cell_type": "markdown",
   "metadata": {
    "id": "t9rLbLMsJSQu"
   },
   "source": [
    "# **Homework 2: Introduction to Numpy**\n",
    "\n",
    "### Name: Shayari Peiris\n",
    "### Collaborator:\n",
    "\n",
    "\n",
    "DATA 201A \n",
    "\n",
    "Fall 2022\n",
    "\n",
    "Tufts University"
   ]
  },
  {
   "cell_type": "markdown",
   "metadata": {
    "id": "KwT1ae5_PRqZ"
   },
   "source": [
    "## 1. Create a matrix"
   ]
  },
  {
   "cell_type": "raw",
   "metadata": {
    "id": "kYmncl7bhn4B"
   },
   "source": [
    "1)You will use numpy functions to create rows for a matrix based on the following instructions. Each row will be created as a numpy array. Name each array in the form of \"row1\", \"row2\", ....Print each array in a seperate cell.\n",
    "*Note: When creating each new array, do not make changes to any previously created arrays. You can choose to rename or make a copy if needed.\n",
    "\n",
    "Row 1: Ten continuous integers from 1 to 10 in ascending order\n",
    "\n",
    "Row 2: Ten numbers from 0 to 45 with the same step size in ascending order\n",
    "\n",
    "Row 3: Numbers from 1 to 20 with step size of 2 in ascending order\n",
    "\n",
    "Row 4: Make a copy of the first five numbers of Row 2. Then make a copy of the first five numbers of Row 3. Concatenate the two copies together\n",
    "\n",
    "Row 5: Sort Row 4 in descending order\n",
    "\n",
    "Row 6: Sort Row 4 but return the indexes of the sorted array\n",
    "\n",
    "Row 7: Make a copy of row 1. Sum the numbers in Row 1 one by one and record the intermediate steps (accumulative sum) \n",
    "\n",
    "Row 8: Make a copy of row 1. Broadcast +5 to every emelment in the array\n",
    "\n",
    "Row 9: Same as row 1 but reverse the order of the last five numbers\n",
    "        *hint: consider sub_copy and concatination, the resulted array still has ten numbers\n",
    "        \n",
    "Row 10: Same as row 1 but reverse the order of every other number (ex: only the 2nd, 4th, ... numberes are reversed)\n",
    "        *hint: consider using indexing to replace values, the resulted array still has ten numbers"
   ]
  },
  {
   "cell_type": "code",
   "execution_count": 512,
   "metadata": {
    "id": "nCss_14uhQ5e"
   },
   "outputs": [],
   "source": [
    "import numpy as np\n",
    "\n",
    "#Row 1: Ten continuous integers from 1 to 10 in ascending order\n",
    "\n",
    "row1 = np.arange(1, 11, 1)"
   ]
  },
  {
   "cell_type": "code",
   "execution_count": 513,
   "metadata": {},
   "outputs": [
    {
     "name": "stdout",
     "output_type": "stream",
     "text": [
      "[ 1  2  3  4  5  6  7  8  9 10]\n"
     ]
    }
   ],
   "source": [
    "#Row 1\n",
    "#printing row1\n",
    "\n",
    "print(row1)"
   ]
  },
  {
   "cell_type": "code",
   "execution_count": 514,
   "metadata": {},
   "outputs": [],
   "source": [
    "#Row 2: Ten numbers from 0 to 45 with the same step size in ascending order\n",
    "\n",
    "row2 = np.linspace(0, 45, 10, dtype=int)"
   ]
  },
  {
   "cell_type": "code",
   "execution_count": 515,
   "metadata": {},
   "outputs": [
    {
     "name": "stdout",
     "output_type": "stream",
     "text": [
      "[ 0  5 10 15 20 25 30 35 40 45]\n"
     ]
    }
   ],
   "source": [
    "#Row 2\n",
    "#printing row2\n",
    "\n",
    "print(row2)"
   ]
  },
  {
   "cell_type": "code",
   "execution_count": 516,
   "metadata": {},
   "outputs": [],
   "source": [
    "#Row 3: Numbers from 1 to 20 with step size of 2 in ascending order\n",
    "\n",
    "row3 = np.arange(1, 20, 2)"
   ]
  },
  {
   "cell_type": "code",
   "execution_count": 517,
   "metadata": {},
   "outputs": [
    {
     "name": "stdout",
     "output_type": "stream",
     "text": [
      "[ 1  3  5  7  9 11 13 15 17 19]\n"
     ]
    }
   ],
   "source": [
    "#Row 3\n",
    "#printing row3\n",
    "\n",
    "print(row3)"
   ]
  },
  {
   "cell_type": "code",
   "execution_count": 518,
   "metadata": {},
   "outputs": [
    {
     "name": "stdout",
     "output_type": "stream",
     "text": [
      "[ 0  5 10 15 20]\n"
     ]
    }
   ],
   "source": [
    "#Row 4: Make a copy of the first five numbers of Row 2. \n",
    "#Then make a copy of the first five numbers of Row 3. Concatenate the two copies together\n",
    "\n",
    "#making an array with first five numbers of Row 2 (called \"a\")\n",
    "a = row2[:5]\n",
    "print(a)"
   ]
  },
  {
   "cell_type": "code",
   "execution_count": 519,
   "metadata": {},
   "outputs": [
    {
     "name": "stdout",
     "output_type": "stream",
     "text": [
      "[1 3 5 7 9]\n"
     ]
    }
   ],
   "source": [
    "#Row 4\n",
    "#making an array with first five numbers of Row 3 (called \"b\")\n",
    "b = row3[:5]\n",
    "print(b)"
   ]
  },
  {
   "cell_type": "code",
   "execution_count": 520,
   "metadata": {},
   "outputs": [],
   "source": [
    "#Row 4\n",
    "#copying a as row4_part1\n",
    "row4_part1 = a.copy()"
   ]
  },
  {
   "cell_type": "code",
   "execution_count": 521,
   "metadata": {},
   "outputs": [],
   "source": [
    "#Row 4\n",
    "#copying b as row4_part2\n",
    "row4_part2 = b.copy()"
   ]
  },
  {
   "cell_type": "code",
   "execution_count": 522,
   "metadata": {},
   "outputs": [],
   "source": [
    "#Row 4\n",
    "#concatenating row4_part1 and row4_part2 to create row4\n",
    "row4 = np.concatenate([row4_part1, row4_part2])"
   ]
  },
  {
   "cell_type": "code",
   "execution_count": 523,
   "metadata": {},
   "outputs": [
    {
     "name": "stdout",
     "output_type": "stream",
     "text": [
      "[ 0  5 10 15 20  1  3  5  7  9]\n"
     ]
    }
   ],
   "source": [
    "#Row 4\n",
    "#printing row4\n",
    "\n",
    "print(row4)"
   ]
  },
  {
   "cell_type": "code",
   "execution_count": 524,
   "metadata": {},
   "outputs": [],
   "source": [
    "#Row 5: Sort Row 4 in descending order\n",
    "\n",
    "row5 = np.sort(row4)[::-1]"
   ]
  },
  {
   "cell_type": "code",
   "execution_count": 525,
   "metadata": {},
   "outputs": [
    {
     "name": "stdout",
     "output_type": "stream",
     "text": [
      "[20 15 10  9  7  5  5  3  1  0]\n"
     ]
    }
   ],
   "source": [
    "#Row 5\n",
    "#printing row5\n",
    "\n",
    "print(row5)"
   ]
  },
  {
   "cell_type": "code",
   "execution_count": 526,
   "metadata": {},
   "outputs": [
    {
     "name": "stdout",
     "output_type": "stream",
     "text": [
      "[20 15 10  9  7  5  5  3  1  0]\n"
     ]
    }
   ],
   "source": [
    "#Row 6: Sort Row 4 but return the indexes of the sorted array **Rosie said to sort in descending order**\n",
    "\n",
    "#sorting row 4 and naming new array as \"row4_sorted\"\n",
    "row4_sorted = np.sort(row4)[::-1]\n",
    "print(row4_sorted)"
   ]
  },
  {
   "cell_type": "code",
   "execution_count": 527,
   "metadata": {},
   "outputs": [],
   "source": [
    "#Row6\n",
    "#defining row6 as the index values of row4_sorted using arg.sort\n",
    "row6 = np.argsort(row4_sorted)"
   ]
  },
  {
   "cell_type": "code",
   "execution_count": 528,
   "metadata": {},
   "outputs": [
    {
     "name": "stdout",
     "output_type": "stream",
     "text": [
      "[9 8 7 5 6 4 3 2 1 0]\n"
     ]
    }
   ],
   "source": [
    "#Row6\n",
    "#printing row6\n",
    "\n",
    "print(row6)"
   ]
  },
  {
   "cell_type": "code",
   "execution_count": 529,
   "metadata": {},
   "outputs": [],
   "source": [
    "#Row 7: Make a copy of row 1. \n",
    "#Sum the numbers in Row 1 one by one and record the intermediate steps (accumulative sum) \n",
    "\n",
    "#making a copy of row1\n",
    "#creating an accumulative sum of row1_copy and naming it row7\n",
    "row1_copy = row1.copy()\n",
    "row7 = np.add.accumulate(row1_copy)"
   ]
  },
  {
   "cell_type": "code",
   "execution_count": 530,
   "metadata": {},
   "outputs": [
    {
     "name": "stdout",
     "output_type": "stream",
     "text": [
      "[ 1  3  6 10 15 21 28 36 45 55]\n"
     ]
    }
   ],
   "source": [
    "#Row7\n",
    "#printing row7\n",
    "\n",
    "print(row7)"
   ]
  },
  {
   "cell_type": "code",
   "execution_count": 531,
   "metadata": {},
   "outputs": [],
   "source": [
    "#Row 8: Make a copy of row 1. Broadcast +5 to every emelment in the array\n",
    "\n",
    "#creating a copy of row1 and adding 5 to every element\n",
    "row1_secondcopy = row1.copy()\n",
    "row8 = row1_secondcopy + 5"
   ]
  },
  {
   "cell_type": "code",
   "execution_count": 532,
   "metadata": {},
   "outputs": [
    {
     "name": "stdout",
     "output_type": "stream",
     "text": [
      "[ 6  7  8  9 10 11 12 13 14 15]\n"
     ]
    }
   ],
   "source": [
    "#Row8\n",
    "#printing row8\n",
    "\n",
    "print(row8)"
   ]
  },
  {
   "cell_type": "code",
   "execution_count": 533,
   "metadata": {},
   "outputs": [],
   "source": [
    "#Row 9: Same as row 1 but reverse the order of the last five numbers\n",
    "#hint: consider sub_copy and concatination, the resulted array still has ten numbers\n",
    "\n",
    "#creating a copy of row1\n",
    "row1_thirdcopy = row1.copy()"
   ]
  },
  {
   "cell_type": "code",
   "execution_count": 534,
   "metadata": {},
   "outputs": [
    {
     "name": "stdout",
     "output_type": "stream",
     "text": [
      "[10  9  8  7  6]\n"
     ]
    }
   ],
   "source": [
    "#Row 9\n",
    "\n",
    "#C = array that has the last five numbers of row1 in reverse order\n",
    "C = row1_thirdcopy[10:4:-1] \n",
    "print(C)"
   ]
  },
  {
   "cell_type": "code",
   "execution_count": 535,
   "metadata": {},
   "outputs": [
    {
     "name": "stdout",
     "output_type": "stream",
     "text": [
      "[1 2 3 4 5]\n"
     ]
    }
   ],
   "source": [
    "#Row 9:\n",
    "\n",
    "#D = array that has the first five numbers of row1 \n",
    "D = row1_thirdcopy[0:5:] \n",
    "print(D)"
   ]
  },
  {
   "cell_type": "code",
   "execution_count": 536,
   "metadata": {},
   "outputs": [],
   "source": [
    "#Row 9:\n",
    "\n",
    "#concatenating rows C and D to create row9\n",
    "row9 = np.concatenate([D, C])"
   ]
  },
  {
   "cell_type": "code",
   "execution_count": 537,
   "metadata": {},
   "outputs": [
    {
     "name": "stdout",
     "output_type": "stream",
     "text": [
      "[ 1  2  3  4  5 10  9  8  7  6]\n"
     ]
    }
   ],
   "source": [
    "#Row 9:\n",
    "#printing row9\n",
    "\n",
    "print(row9)"
   ]
  },
  {
   "cell_type": "code",
   "execution_count": 538,
   "metadata": {},
   "outputs": [
    {
     "name": "stdout",
     "output_type": "stream",
     "text": [
      "[ 1  2  3  4  5  6  7  8  9 10]\n"
     ]
    }
   ],
   "source": [
    "#Row 10: Same as row 1 but reverse the order of every other number (ex: only the 2nd, 4th, ... numberes are reversed)\n",
    "#hint: consider using indexing to replace values, the resulted array still has ten numbers\n",
    "\n",
    "#creating a copy of row1\n",
    "row1_fourthcopy = row1.copy()\n",
    "print(row1_fourthcopy)"
   ]
  },
  {
   "cell_type": "code",
   "execution_count": 539,
   "metadata": {},
   "outputs": [
    {
     "name": "stdout",
     "output_type": "stream",
     "text": [
      "[ 1 10  3  8  5  6  7  4  9  2]\n"
     ]
    }
   ],
   "source": [
    "#Row 10\n",
    "#using indexing to replace every other value in reverse order\n",
    "\n",
    "np.put(row1_fourthcopy, [1, 3, 5, 7, 9], [10, 8, 6, 4, 2])\n",
    "print(row1_fourthcopy)"
   ]
  },
  {
   "cell_type": "code",
   "execution_count": 540,
   "metadata": {},
   "outputs": [],
   "source": [
    "#Row 10\n",
    "#naming row1_fourthcopy as row10 \n",
    "row10 = row1_fourthcopy"
   ]
  },
  {
   "cell_type": "code",
   "execution_count": 541,
   "metadata": {},
   "outputs": [
    {
     "name": "stdout",
     "output_type": "stream",
     "text": [
      "[ 1 10  3  8  5  6  7  4  9  2]\n"
     ]
    }
   ],
   "source": [
    "#Row 10\n",
    "#printing row10\n",
    "\n",
    "print(row10)"
   ]
  },
  {
   "cell_type": "markdown",
   "metadata": {},
   "source": [
    "2)Combine the 10 rows in 1) to a single array in sequence and form a 10x10 matrix"
   ]
  },
  {
   "cell_type": "code",
   "execution_count": 542,
   "metadata": {
    "scrolled": true
   },
   "outputs": [
    {
     "name": "stdout",
     "output_type": "stream",
     "text": [
      "[[ 1  2  3  4  5  6  7  8  9 10]\n",
      " [ 0  5 10 15 20 25 30 35 40 45]\n",
      " [ 1  3  5  7  9 11 13 15 17 19]\n",
      " [ 0  5 10 15 20  1  3  5  7  9]\n",
      " [20 15 10  9  7  5  5  3  1  0]\n",
      " [ 9  8  7  5  6  4  3  2  1  0]\n",
      " [ 1  3  6 10 15 21 28 36 45 55]\n",
      " [ 6  7  8  9 10 11 12 13 14 15]\n",
      " [ 1  2  3  4  5 10  9  8  7  6]\n",
      " [ 1 10  3  8  5  6  7  4  9  2]]\n"
     ]
    }
   ],
   "source": [
    "#Problem 2\n",
    "#combining the 10 rows into a single array in sequence and form a 10x10 matrix\n",
    "\n",
    "matrix = np.stack((row1,row2,row3,row4,row5,row6,row7,row8,row9,row10),axis=0)\n",
    "print(matrix)"
   ]
  },
  {
   "cell_type": "markdown",
   "metadata": {},
   "source": [
    "3)Use np.all or np.any to find the rows that only contain values below or equal to 10. Remove these rows."
   ]
  },
  {
   "cell_type": "code",
   "execution_count": 543,
   "metadata": {},
   "outputs": [
    {
     "name": "stdout",
     "output_type": "stream",
     "text": [
      "[0, 5, 8, 9]\n"
     ]
    }
   ],
   "source": [
    "#Problem 3\n",
    "#creating a for loop to find any rows that only contain values < or = to 10 and appending the row index # to a list\n",
    "\n",
    "drop_list = []\n",
    "\n",
    "for i in range(len(matrix)):\n",
    "    if np.all(matrix[i] <= 10) == True:\n",
    "        drop_list.append(i)\n",
    "        \n",
    "print(drop_list)"
   ]
  },
  {
   "cell_type": "code",
   "execution_count": 544,
   "metadata": {},
   "outputs": [
    {
     "name": "stdout",
     "output_type": "stream",
     "text": [
      "[[ 0  5 10 15 20 25 30 35 40 45]\n",
      " [ 1  3  5  7  9 11 13 15 17 19]\n",
      " [ 0  5 10 15 20  1  3  5  7  9]\n",
      " [20 15 10  9  7  5  5  3  1  0]\n",
      " [ 1  3  6 10 15 21 28 36 45 55]\n",
      " [ 6  7  8  9 10 11 12 13 14 15]]\n"
     ]
    }
   ],
   "source": [
    "#Problem 3\n",
    "#To do: remove rows 1, 6, 9 and 10\n",
    "\n",
    "matrix_delete = np.delete(matrix, [drop_list], axis=0)\n",
    "print(matrix_delete)"
   ]
  },
  {
   "cell_type": "markdown",
   "metadata": {},
   "source": [
    "4)For the new matrix you abtained in 3), reorder the rows in ascending order based on the sum of values in the rows. The resulted numpy array matrix will have first row with the largest sum and the last row with the smallest sum."
   ]
  },
  {
   "cell_type": "code",
   "execution_count": 545,
   "metadata": {},
   "outputs": [
    {
     "name": "stdout",
     "output_type": "stream",
     "text": [
      "[225, 100, 75, 75, 220, 105]\n"
     ]
    }
   ],
   "source": [
    "#Problem 4\n",
    "#To do\n",
    "#sum of elements in first row\n",
    "\n",
    "#creating a for loop to find the sum of each row and appending the sums to a list called \"sums\"\n",
    "\n",
    "sums=[]\n",
    "for x in matrix_delete:\n",
    "    sum(x)\n",
    "    sums.append(sum(x))\n",
    "print(sums)"
   ]
  },
  {
   "cell_type": "code",
   "execution_count": 546,
   "metadata": {},
   "outputs": [
    {
     "name": "stdout",
     "output_type": "stream",
     "text": [
      "[75, 75, 100, 105, 220, 225]\n"
     ]
    }
   ],
   "source": [
    "#Problem 4\n",
    "#sorting the values in sums from smallest to largest\n",
    "\n",
    "sums.sort()\n",
    "print(sums)"
   ]
  },
  {
   "cell_type": "code",
   "execution_count": 547,
   "metadata": {},
   "outputs": [],
   "source": [
    "#Problem 4\n",
    "#creating a new matrix with the row in ascending order according to sum\n",
    "\n",
    "new_matrix = matrix_delete[np.argsort(matrix_delete.sum(axis=1))]"
   ]
  },
  {
   "cell_type": "code",
   "execution_count": 548,
   "metadata": {},
   "outputs": [
    {
     "name": "stdout",
     "output_type": "stream",
     "text": [
      "[[ 0  5 10 15 20  1  3  5  7  9]\n",
      " [20 15 10  9  7  5  5  3  1  0]\n",
      " [ 1  3  5  7  9 11 13 15 17 19]\n",
      " [ 6  7  8  9 10 11 12 13 14 15]\n",
      " [ 1  3  6 10 15 21 28 36 45 55]\n",
      " [ 0  5 10 15 20 25 30 35 40 45]]\n"
     ]
    }
   ],
   "source": [
    "#Problem 4\n",
    "#printing a new matrix\n",
    "\n",
    "print(new_matrix)"
   ]
  }
 ],
 "metadata": {
  "colab": {
   "collapsed_sections": [],
   "name": "DATA201A_HW1.ipynb",
   "provenance": []
  },
  "kernelspec": {
   "display_name": "Python 3 (ipykernel)",
   "language": "python",
   "name": "python3"
  },
  "language_info": {
   "codemirror_mode": {
    "name": "ipython",
    "version": 3
   },
   "file_extension": ".py",
   "mimetype": "text/x-python",
   "name": "python",
   "nbconvert_exporter": "python",
   "pygments_lexer": "ipython3",
   "version": "3.9.12"
  }
 },
 "nbformat": 4,
 "nbformat_minor": 1
}
